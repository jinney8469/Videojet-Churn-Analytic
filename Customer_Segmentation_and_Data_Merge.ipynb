{
 "cells": [
  {
   "cell_type": "code",
   "execution_count": 1,
   "metadata": {},
   "outputs": [],
   "source": [
    "import numpy as np\n",
    "import pandas as pd\n",
    "import matplotlib.pyplot as plt\n",
    "import seaborn as sns\n",
    "from datetime import datetime,timedelta\n",
    "import squarify\n",
    "import re \n",
    "import warnings\n",
    "warnings.filterwarnings(\"ignore\")\n",
    "from sklearn.tree import DecisionTreeClassifier\n",
    "from sklearn import tree\n",
    "from sklearn.linear_model import LogisticRegression\n",
    "from sklearn.preprocessing import StandardScaler\n",
    "from sklearn.cluster import KMeans\n",
    "import statsmodels.api as sm\n",
    "from sklearn.feature_selection import RFE\n",
    "from sklearn.model_selection import train_test_split\n",
    "from sklearn.metrics import accuracy_score, f1_score,recall_score,precision_score, confusion_matrix\n",
    "from sklearn.metrics import silhouette_score"
   ]
  },
  {
   "cell_type": "code",
   "execution_count": 2,
   "metadata": {},
   "outputs": [],
   "source": [
    "#the dataframe is based on the sql query\n",
    "\n",
    "#select r.*,pr.*,cs.*,\n",
    "#(select pin.PRICE_IDX\n",
    "#from\n",
    "#[USC_IB_Churn_Analysis_DB].[dbo].[VJ_Price_Index_Tab] pin\n",
    "#where 1=1\n",
    "#and r.item_id=pin.ITEM_ID\n",
    "#and year(r.TRX_DATE)=pin.PRICE_YEAR\n",
    "#and r.SHIP_TO_SITE_ID=pin.CUSTOMER_SITE_ID) PRICE_IDX\n",
    "#from [USC_IB_Churn_Analysis_DB].[dbo].[VJ_SUP_Revenue_Trxns_Tab] r,\n",
    "#[USC_IB_Churn_Analysis_DB].[dbo].[VJ_SUP_Products_Tab] pr,\n",
    "#[USC_IB_Churn_Analysis_DB].[dbo].[VJ_Customer_Sites_Tab] cs\n",
    "#where r.ITEM_ID=pr.ITEM_ID\n",
    "#and r.DUNS_NUMBER=cs.DUNS_NUMBER\n",
    "#and r.SHIP_TO_SITE_ID=cs.CUSTOMER_SITE_ID;\n",
    "\n",
    "df= pd.read_csv('customer_price_revenue_0625.csv')\n",
    "\n",
    "#this is from [USC_IB_Churn_Analysis_DB].[dbo].[5019T_Site_Level_Price_Index_SUP]\n",
    "price_index =pd.read_csv('price_index_0726.csv')"
   ]
  },
  {
   "cell_type": "code",
   "execution_count": 3,
   "metadata": {},
   "outputs": [
    {
     "data": {
      "text/plain": [
       "(640184, 49)"
      ]
     },
     "execution_count": 3,
     "metadata": {},
     "output_type": "execute_result"
    }
   ],
   "source": [
    "df =df.drop_duplicates()\n",
    "df.shape"
   ]
  },
  {
   "cell_type": "code",
   "execution_count": 4,
   "metadata": {},
   "outputs": [],
   "source": [
    "df['TRX_DATE']=pd.to_datetime(df['TRX_DATE'])\n",
    "#keep only the positive transaction\n",
    "trx=df[df['TRX_AMT_USD']>0]"
   ]
  },
  {
   "cell_type": "code",
   "execution_count": 5,
   "metadata": {},
   "outputs": [],
   "source": [
    "#for each customer get the oldest transaction date, latest trancation date, \n",
    "#total transaction amount, number of transaction\n",
    "churn=trx.groupby(['CUSTOMER_SITE_ID'])\\\n",
    ".agg({'TRX_DATE':['min','max'],'TRX_AMT_USD':'sum','CUSTOMER_TRX_ID':pd.Series.nunique,'ITEM_ID':pd.Series.nunique})\\\n",
    ".reset_index()\n",
    "\n",
    "#concat column together\n",
    "churn.columns = ['%s%s' % (a, '_%s' % b if b else '') for a, b in churn.columns]\n",
    "\n",
    "#create customer status column\n",
    "churn['Status']=np.where(churn['TRX_DATE_max']<'2019-06-01','Churn','Active')\n",
    "churn['Active']=np.where(churn['Status']=='Active',1,0)\n",
    "\n",
    "churn=churn.rename(columns={'TRX_AMT_USD_sum':'Monetary','CUSTOMER_TRX_ID_nunique':'Frequency',\\\n",
    "                     'ITEM_ID_nunique':'Unique_Item_Purchased'})\n",
    "churn['Duration']=((churn['TRX_DATE_max']-churn['TRX_DATE_min'])/np.timedelta64(1,'D')).astype('int')+1"
   ]
  },
  {
   "cell_type": "code",
   "execution_count": 6,
   "metadata": {},
   "outputs": [
    {
     "data": {
      "text/html": [
       "<div>\n",
       "<style scoped>\n",
       "    .dataframe tbody tr th:only-of-type {\n",
       "        vertical-align: middle;\n",
       "    }\n",
       "\n",
       "    .dataframe tbody tr th {\n",
       "        vertical-align: top;\n",
       "    }\n",
       "\n",
       "    .dataframe thead th {\n",
       "        text-align: right;\n",
       "    }\n",
       "</style>\n",
       "<table border=\"1\" class=\"dataframe\">\n",
       "  <thead>\n",
       "    <tr style=\"text-align: right;\">\n",
       "      <th></th>\n",
       "      <th>CUSTOMER_SITE_ID</th>\n",
       "      <th>TRX_DATE_min</th>\n",
       "      <th>TRX_DATE_max</th>\n",
       "      <th>Monetary</th>\n",
       "      <th>Frequency</th>\n",
       "      <th>Unique_Item_Purchased</th>\n",
       "      <th>Status</th>\n",
       "      <th>Active</th>\n",
       "      <th>Duration</th>\n",
       "    </tr>\n",
       "  </thead>\n",
       "  <tbody>\n",
       "    <tr>\n",
       "      <th>0</th>\n",
       "      <td>20</td>\n",
       "      <td>2015-01-29</td>\n",
       "      <td>2020-04-07</td>\n",
       "      <td>25135.270000</td>\n",
       "      <td>24</td>\n",
       "      <td>4</td>\n",
       "      <td>Active</td>\n",
       "      <td>1</td>\n",
       "      <td>1896</td>\n",
       "    </tr>\n",
       "    <tr>\n",
       "      <th>1</th>\n",
       "      <td>24</td>\n",
       "      <td>2020-03-20</td>\n",
       "      <td>2020-05-11</td>\n",
       "      <td>12408.420000</td>\n",
       "      <td>4</td>\n",
       "      <td>2</td>\n",
       "      <td>Active</td>\n",
       "      <td>1</td>\n",
       "      <td>53</td>\n",
       "    </tr>\n",
       "    <tr>\n",
       "      <th>2</th>\n",
       "      <td>36</td>\n",
       "      <td>2015-01-15</td>\n",
       "      <td>2020-04-07</td>\n",
       "      <td>166501.599864</td>\n",
       "      <td>264</td>\n",
       "      <td>20</td>\n",
       "      <td>Active</td>\n",
       "      <td>1</td>\n",
       "      <td>1910</td>\n",
       "    </tr>\n",
       "    <tr>\n",
       "      <th>3</th>\n",
       "      <td>86</td>\n",
       "      <td>2015-06-04</td>\n",
       "      <td>2020-05-22</td>\n",
       "      <td>16124.320000</td>\n",
       "      <td>16</td>\n",
       "      <td>4</td>\n",
       "      <td>Active</td>\n",
       "      <td>1</td>\n",
       "      <td>1815</td>\n",
       "    </tr>\n",
       "    <tr>\n",
       "      <th>4</th>\n",
       "      <td>90</td>\n",
       "      <td>2015-04-14</td>\n",
       "      <td>2020-04-15</td>\n",
       "      <td>22922.040000</td>\n",
       "      <td>79</td>\n",
       "      <td>5</td>\n",
       "      <td>Active</td>\n",
       "      <td>1</td>\n",
       "      <td>1829</td>\n",
       "    </tr>\n",
       "  </tbody>\n",
       "</table>\n",
       "</div>"
      ],
      "text/plain": [
       "   CUSTOMER_SITE_ID TRX_DATE_min TRX_DATE_max       Monetary  Frequency  \\\n",
       "0                20   2015-01-29   2020-04-07   25135.270000         24   \n",
       "1                24   2020-03-20   2020-05-11   12408.420000          4   \n",
       "2                36   2015-01-15   2020-04-07  166501.599864        264   \n",
       "3                86   2015-06-04   2020-05-22   16124.320000         16   \n",
       "4                90   2015-04-14   2020-04-15   22922.040000         79   \n",
       "\n",
       "   Unique_Item_Purchased  Status  Active  Duration  \n",
       "0                      4  Active       1      1896  \n",
       "1                      2  Active       1        53  \n",
       "2                     20  Active       1      1910  \n",
       "3                      4  Active       1      1815  \n",
       "4                      5  Active       1      1829  "
      ]
     },
     "execution_count": 6,
     "metadata": {},
     "output_type": "execute_result"
    }
   ],
   "source": [
    "churn.head()"
   ]
  },
  {
   "cell_type": "markdown",
   "metadata": {},
   "source": [
    "## FMT Segment"
   ]
  },
  {
   "cell_type": "code",
   "execution_count": 7,
   "metadata": {},
   "outputs": [],
   "source": [
    "churn_fmt=churn[['CUSTOMER_SITE_ID','Monetary','Frequency','Duration']].set_index('CUSTOMER_SITE_ID')\n",
    "churn_log = np.log(churn_fmt)\n",
    "\n",
    "# Initialize a standard scaler and fit it\n",
    "scaler = StandardScaler()\n",
    "scaler.fit(churn_log)\n",
    "\n",
    "# Scale and center the data\n",
    "churn_normalized = scaler.transform(churn_log)\n",
    "\n",
    "# Create a pandas DataFrame\n",
    "churn_normalized = pd.DataFrame(data=churn_normalized, index=churn_fmt.index, columns=churn_fmt.columns)"
   ]
  },
  {
   "cell_type": "code",
   "execution_count": 8,
   "metadata": {},
   "outputs": [],
   "source": [
    "# Fit KMeans and calculate SSE for each k\n",
    "sse ={}\n",
    "for k in range(1, 11):\n",
    "  \n",
    "    # Initialize KMeans with k clusters\n",
    "    kmeans = KMeans(n_clusters=k, random_state=1)\n",
    "    \n",
    "    # Fit KMeans on the normalized dataset\n",
    "    kmeans.fit(churn_normalized)\n",
    "    \n",
    "    # Assign sum of squared distances to k element of dictionary\n",
    "    sse[k] = kmeans.inertia_"
   ]
  },
  {
   "cell_type": "code",
   "execution_count": 9,
   "metadata": {},
   "outputs": [
    {
     "data": {
      "image/png": "[encoded data removed]",
      "text/plain": [
       "<Figure size 432x288 with 1 Axes>"
      ]
     },
     "metadata": {
      "needs_background": "light"
     },
     "output_type": "display_data"
    }
   ],
   "source": [
    "# Add the plot title \"The Elbow Method\"\n",
    "plt.title('The Elbow Method')\n",
    "\n",
    "# Add X-axis label \"k\"\n",
    "plt.xlabel('k')\n",
    "\n",
    "# Add Y-axis label \"SSE\"\n",
    "plt.ylabel('SSE')\n",
    "\n",
    "# Plot SSE values for each key in the dictionary\n",
    "sns.pointplot(x=list(sse.keys()), y=list(sse.values()))\n",
    "plt.show()"
   ]
  },
  {
   "cell_type": "code",
   "execution_count": 10,
   "metadata": {},
   "outputs": [
    {
     "name": "stdout",
     "output_type": "stream",
     "text": [
      "For n_clusters = 2, silhouette score is 0.5408504123361935)\n",
      "For n_clusters = 3, silhouette score is 0.5183005213143701)\n",
      "For n_clusters = 4, silhouette score is 0.4729347644875178)\n",
      "For n_clusters = 5, silhouette score is 0.42974243885777913)\n",
      "For n_clusters = 6, silhouette score is 0.393325566500459)\n",
      "For n_clusters = 7, silhouette score is 0.3505916534753306)\n",
      "For n_clusters = 8, silhouette score is 0.3249505320281278)\n",
      "For n_clusters = 9, silhouette score is 0.32997315561720525)\n",
      "For n_clusters = 10, silhouette score is 0.3313020530937498)\n"
     ]
    }
   ],
   "source": [
    "#get the silhouette score,the closer to 1, the better\n",
    "for n_clusters in range(2,11):\n",
    "    clusterer = KMeans(n_clusters=n_clusters)\n",
    "    preds = clusterer.fit_predict(churn_normalized)\n",
    "    centers = clusterer.cluster_centers_\n",
    "\n",
    "    score = silhouette_score(churn_normalized, preds)\n",
    "    print(\"For n_clusters = {}, silhouette score is {})\".format(n_clusters, score))"
   ]
  },
  {
   "cell_type": "markdown",
   "metadata": {},
   "source": [
    "### We choose 4 cluster for the customer segmentation"
   ]
  },
  {
   "cell_type": "code",
   "execution_count": 11,
   "metadata": {},
   "outputs": [
    {
     "data": {
      "text/html": [
       "<div>\n",
       "<style scoped>\n",
       "    .dataframe tbody tr th:only-of-type {\n",
       "        vertical-align: middle;\n",
       "    }\n",
       "\n",
       "    .dataframe tbody tr th {\n",
       "        vertical-align: top;\n",
       "    }\n",
       "\n",
       "    .dataframe thead tr th {\n",
       "        text-align: left;\n",
       "    }\n",
       "\n",
       "    .dataframe thead tr:last-of-type th {\n",
       "        text-align: right;\n",
       "    }\n",
       "</style>\n",
       "<table border=\"1\" class=\"dataframe\">\n",
       "  <thead>\n",
       "    <tr>\n",
       "      <th></th>\n",
       "      <th>Duration</th>\n",
       "      <th>Frequency</th>\n",
       "      <th colspan=\"2\" halign=\"left\">Monetary</th>\n",
       "    </tr>\n",
       "    <tr>\n",
       "      <th></th>\n",
       "      <th>mean</th>\n",
       "      <th>mean</th>\n",
       "      <th>mean</th>\n",
       "      <th>count</th>\n",
       "    </tr>\n",
       "    <tr>\n",
       "      <th>Cluster</th>\n",
       "      <th></th>\n",
       "      <th></th>\n",
       "      <th></th>\n",
       "      <th></th>\n",
       "    </tr>\n",
       "  </thead>\n",
       "  <tbody>\n",
       "    <tr>\n",
       "      <th>3</th>\n",
       "      <td>1751.1</td>\n",
       "      <td>84.8</td>\n",
       "      <td>112031.3</td>\n",
       "      <td>3513</td>\n",
       "    </tr>\n",
       "    <tr>\n",
       "      <th>0</th>\n",
       "      <td>1385.8</td>\n",
       "      <td>19.5</td>\n",
       "      <td>10008.3</td>\n",
       "      <td>5634</td>\n",
       "    </tr>\n",
       "    <tr>\n",
       "      <th>2</th>\n",
       "      <td>613.0</td>\n",
       "      <td>4.5</td>\n",
       "      <td>1798.0</td>\n",
       "      <td>4362</td>\n",
       "    </tr>\n",
       "    <tr>\n",
       "      <th>1</th>\n",
       "      <td>1.8</td>\n",
       "      <td>1.1</td>\n",
       "      <td>618.2</td>\n",
       "      <td>2901</td>\n",
       "    </tr>\n",
       "  </tbody>\n",
       "</table>\n",
       "</div>"
      ],
      "text/plain": [
       "        Duration Frequency  Monetary      \n",
       "            mean      mean      mean count\n",
       "Cluster                                   \n",
       "3         1751.1      84.8  112031.3  3513\n",
       "0         1385.8      19.5   10008.3  5634\n",
       "2          613.0       4.5    1798.0  4362\n",
       "1            1.8       1.1     618.2  2901"
      ]
     },
     "execution_count": 11,
     "metadata": {},
     "output_type": "execute_result"
    }
   ],
   "source": [
    "# choose cluster=4 for KMeans\n",
    "kmeans = KMeans(n_clusters=4, random_state=1) \n",
    "\n",
    "# Fit k-means clustering on the normalized data set\n",
    "kmeans.fit(churn_normalized)\n",
    "\n",
    "# Extract cluster labels\n",
    "cluster_labels = kmeans.labels_\n",
    "\n",
    "churn_fmt_k4 = churn_fmt.assign(Cluster=cluster_labels)\n",
    "\n",
    "# Group the data by cluster\n",
    "group_k4 = churn_fmt_k4.groupby(['Cluster']).agg({\n",
    "    'Duration': 'mean',\n",
    "    'Frequency': 'mean',\n",
    "    'Monetary': ['mean', 'count']\n",
    "  }).round(1)\n",
    "\n",
    "# Calculate average RFM values and segment sizes per cluster value\n",
    "group_k4.sort_values(('Monetary','mean'),ascending=False)"
   ]
  },
  {
   "cell_type": "code",
   "execution_count": 12,
   "metadata": {},
   "outputs": [],
   "source": [
    "#assign the cluster number back to churn df\n",
    "churn_cluster=churn_fmt_k4[['Cluster']].reset_index().merge(churn,on='CUSTOMER_SITE_ID')"
   ]
  },
  {
   "cell_type": "code",
   "execution_count": 13,
   "metadata": {},
   "outputs": [],
   "source": [
    "#name the cluster\n",
    "rank= {3:'Tier 1',0:\"Tier 2\",2:\"Tier 3\",1:\"Tier 4\"}\n",
    "\n",
    "churn_cluster['Tier']=churn_cluster['Cluster'].map(rank)\n",
    "churn_cluster=churn_cluster.drop('Cluster',axis=1)"
   ]
  },
  {
   "cell_type": "code",
   "execution_count": 14,
   "metadata": {},
   "outputs": [
    {
     "data": {
      "text/html": [
       "<div>\n",
       "<style scoped>\n",
       "    .dataframe tbody tr th:only-of-type {\n",
       "        vertical-align: middle;\n",
       "    }\n",
       "\n",
       "    .dataframe tbody tr th {\n",
       "        vertical-align: top;\n",
       "    }\n",
       "\n",
       "    .dataframe thead th {\n",
       "        text-align: right;\n",
       "    }\n",
       "</style>\n",
       "<table border=\"1\" class=\"dataframe\">\n",
       "  <thead>\n",
       "    <tr style=\"text-align: right;\">\n",
       "      <th></th>\n",
       "      <th>Tier</th>\n",
       "      <th>Active_Customer</th>\n",
       "      <th>Total_Count</th>\n",
       "      <th>Churn_Rate</th>\n",
       "    </tr>\n",
       "  </thead>\n",
       "  <tbody>\n",
       "    <tr>\n",
       "      <th>0</th>\n",
       "      <td>Tier 1</td>\n",
       "      <td>3235</td>\n",
       "      <td>3513</td>\n",
       "      <td>7.91</td>\n",
       "    </tr>\n",
       "    <tr>\n",
       "      <th>1</th>\n",
       "      <td>Tier 2</td>\n",
       "      <td>4377</td>\n",
       "      <td>5634</td>\n",
       "      <td>22.31</td>\n",
       "    </tr>\n",
       "    <tr>\n",
       "      <th>2</th>\n",
       "      <td>Tier 3</td>\n",
       "      <td>2058</td>\n",
       "      <td>4362</td>\n",
       "      <td>52.82</td>\n",
       "    </tr>\n",
       "    <tr>\n",
       "      <th>3</th>\n",
       "      <td>Tier 4</td>\n",
       "      <td>626</td>\n",
       "      <td>2901</td>\n",
       "      <td>78.42</td>\n",
       "    </tr>\n",
       "  </tbody>\n",
       "</table>\n",
       "</div>"
      ],
      "text/plain": [
       "     Tier  Active_Customer  Total_Count  Churn_Rate\n",
       "0  Tier 1             3235         3513        7.91\n",
       "1  Tier 2             4377         5634       22.31\n",
       "2  Tier 3             2058         4362       52.82\n",
       "3  Tier 4              626         2901       78.42"
      ]
     },
     "execution_count": 14,
     "metadata": {},
     "output_type": "execute_result"
    }
   ],
   "source": [
    "#get the number of active customer, total number of customer, churn rate per tier\n",
    "cluster_stat=churn_cluster.groupby('Tier').agg({'Active':['sum','count']}).reset_index()\n",
    "cluster_stat.columns=['Tier','Active_Customer','Total_Count']\n",
    "cluster_stat['Churn_Rate']= round(1-(cluster_stat['Active_Customer']/cluster_stat['Total_Count']),4)*100\n",
    "cluster_stat"
   ]
  },
  {
   "cell_type": "code",
   "execution_count": 15,
   "metadata": {},
   "outputs": [
    {
     "data": {
      "text/html": [
       "<div>\n",
       "<style scoped>\n",
       "    .dataframe tbody tr th:only-of-type {\n",
       "        vertical-align: middle;\n",
       "    }\n",
       "\n",
       "    .dataframe tbody tr th {\n",
       "        vertical-align: top;\n",
       "    }\n",
       "\n",
       "    .dataframe thead th {\n",
       "        text-align: right;\n",
       "    }\n",
       "</style>\n",
       "<table border=\"1\" class=\"dataframe\">\n",
       "  <thead>\n",
       "    <tr style=\"text-align: right;\">\n",
       "      <th></th>\n",
       "      <th>CUSTOMER_SITE_ID</th>\n",
       "      <th>TRX_DATE_min</th>\n",
       "      <th>TRX_DATE_max</th>\n",
       "      <th>Monetary</th>\n",
       "      <th>Frequency</th>\n",
       "      <th>Unique_Item_Purchased</th>\n",
       "      <th>Status</th>\n",
       "      <th>Active</th>\n",
       "      <th>Duration</th>\n",
       "      <th>Tier</th>\n",
       "    </tr>\n",
       "  </thead>\n",
       "  <tbody>\n",
       "    <tr>\n",
       "      <th>0</th>\n",
       "      <td>20</td>\n",
       "      <td>2015-01-29</td>\n",
       "      <td>2020-04-07</td>\n",
       "      <td>25135.270000</td>\n",
       "      <td>24</td>\n",
       "      <td>4</td>\n",
       "      <td>Active</td>\n",
       "      <td>1</td>\n",
       "      <td>1896</td>\n",
       "      <td>Tier 2</td>\n",
       "    </tr>\n",
       "    <tr>\n",
       "      <th>1</th>\n",
       "      <td>24</td>\n",
       "      <td>2020-03-20</td>\n",
       "      <td>2020-05-11</td>\n",
       "      <td>12408.420000</td>\n",
       "      <td>4</td>\n",
       "      <td>2</td>\n",
       "      <td>Active</td>\n",
       "      <td>1</td>\n",
       "      <td>53</td>\n",
       "      <td>Tier 3</td>\n",
       "    </tr>\n",
       "    <tr>\n",
       "      <th>2</th>\n",
       "      <td>36</td>\n",
       "      <td>2015-01-15</td>\n",
       "      <td>2020-04-07</td>\n",
       "      <td>166501.599864</td>\n",
       "      <td>264</td>\n",
       "      <td>20</td>\n",
       "      <td>Active</td>\n",
       "      <td>1</td>\n",
       "      <td>1910</td>\n",
       "      <td>Tier 1</td>\n",
       "    </tr>\n",
       "    <tr>\n",
       "      <th>3</th>\n",
       "      <td>86</td>\n",
       "      <td>2015-06-04</td>\n",
       "      <td>2020-05-22</td>\n",
       "      <td>16124.320000</td>\n",
       "      <td>16</td>\n",
       "      <td>4</td>\n",
       "      <td>Active</td>\n",
       "      <td>1</td>\n",
       "      <td>1815</td>\n",
       "      <td>Tier 2</td>\n",
       "    </tr>\n",
       "    <tr>\n",
       "      <th>4</th>\n",
       "      <td>90</td>\n",
       "      <td>2015-04-14</td>\n",
       "      <td>2020-04-15</td>\n",
       "      <td>22922.040000</td>\n",
       "      <td>79</td>\n",
       "      <td>5</td>\n",
       "      <td>Active</td>\n",
       "      <td>1</td>\n",
       "      <td>1829</td>\n",
       "      <td>Tier 1</td>\n",
       "    </tr>\n",
       "  </tbody>\n",
       "</table>\n",
       "</div>"
      ],
      "text/plain": [
       "   CUSTOMER_SITE_ID TRX_DATE_min TRX_DATE_max       Monetary  Frequency  \\\n",
       "0                20   2015-01-29   2020-04-07   25135.270000         24   \n",
       "1                24   2020-03-20   2020-05-11   12408.420000          4   \n",
       "2                36   2015-01-15   2020-04-07  166501.599864        264   \n",
       "3                86   2015-06-04   2020-05-22   16124.320000         16   \n",
       "4                90   2015-04-14   2020-04-15   22922.040000         79   \n",
       "\n",
       "   Unique_Item_Purchased  Status  Active  Duration    Tier  \n",
       "0                      4  Active       1      1896  Tier 2  \n",
       "1                      2  Active       1        53  Tier 3  \n",
       "2                     20  Active       1      1910  Tier 1  \n",
       "3                      4  Active       1      1815  Tier 2  \n",
       "4                      5  Active       1      1829  Tier 1  "
      ]
     },
     "execution_count": 15,
     "metadata": {},
     "output_type": "execute_result"
    }
   ],
   "source": [
    "churn_cluster.head()"
   ]
  },
  {
   "cell_type": "markdown",
   "metadata": {},
   "source": [
    "## Assign \"Tier\" and \"Active\" back to trx dataframe"
   ]
  },
  {
   "cell_type": "code",
   "execution_count": 16,
   "metadata": {},
   "outputs": [],
   "source": [
    "status_id=churn_cluster[['CUSTOMER_SITE_ID','Active']].set_index('CUSTOMER_SITE_ID').T.to_dict('records')[0]\n",
    "tier_id=churn_cluster[['CUSTOMER_SITE_ID','Tier']].set_index('CUSTOMER_SITE_ID').T.to_dict('records')[0]"
   ]
  },
  {
   "cell_type": "code",
   "execution_count": 17,
   "metadata": {},
   "outputs": [],
   "source": [
    "trx['Tier']=trx['CUSTOMER_SITE_ID'].map(tier_id)\n",
    "trx['Active']=trx['CUSTOMER_SITE_ID'].map(status_id)"
   ]
  },
  {
   "cell_type": "code",
   "execution_count": 18,
   "metadata": {},
   "outputs": [
    {
     "data": {
      "text/plain": [
       "(614866, 51)"
      ]
     },
     "execution_count": 18,
     "metadata": {},
     "output_type": "execute_result"
    }
   ],
   "source": [
    "trx.shape"
   ]
  },
  {
   "cell_type": "markdown",
   "metadata": {},
   "source": [
    "## Merge with \"price_index\" "
   ]
  },
  {
   "cell_type": "code",
   "execution_count": 19,
   "metadata": {},
   "outputs": [],
   "source": [
    "#align the shipnumber since I assume \"12345\" and \"00012345\" should mean the same customer ship number\n",
    "def ShipNumber(x):\n",
    "    if re.search(r'[a-zA-Z]',x):\n",
    "        return x\n",
    "    else:\n",
    "        x = x.zfill(8)\n",
    "        return x"
   ]
  },
  {
   "cell_type": "code",
   "execution_count": 20,
   "metadata": {},
   "outputs": [],
   "source": [
    "#create field for data merge key\n",
    "trx['TRX_YEAR']=trx['TRX_DATE'].dt.year\n",
    "price_index['TRX_YEAR']=price_index[['yYEAR']]+2000"
   ]
  },
  {
   "cell_type": "code",
   "execution_count": 21,
   "metadata": {},
   "outputs": [],
   "source": [
    "#align the ship number\n",
    "trx['SHIP_TO_SITE_NUMBER']=trx['SHIP_TO_SITE_NUMBER'].astype('str')\n",
    "price_index['Site_ID']=price_index['Site_ID'].astype('str')\n",
    "trx['ship_number']=trx['SHIP_TO_SITE_NUMBER'].apply(ShipNumber)\n",
    "price_index['ship_number']=price_index['Site_ID'].apply(ShipNumber)"
   ]
  },
  {
   "cell_type": "code",
   "execution_count": 23,
   "metadata": {},
   "outputs": [],
   "source": [
    "#keep the record that really have price index information\n",
    "price_index2=price_index[(price_index['Site_Level_Price_Index']>0)]"
   ]
  },
  {
   "cell_type": "code",
   "execution_count": 24,
   "metadata": {},
   "outputs": [
    {
     "data": {
      "text/plain": [
       "16054"
      ]
     },
     "execution_count": 24,
     "metadata": {},
     "output_type": "execute_result"
    }
   ],
   "source": [
    "#check how many customer site id are still available when we merge the dataframe and create price index related feature\n",
    "trx[trx['ship_number'].isin(price_index2[price_index2['Site_Level_Price_Index']>0]['ship_number'].values)]\\\n",
    "['CUSTOMER_SITE_ID'].nunique()\n"
   ]
  },
  {
   "cell_type": "code",
   "execution_count": 25,
   "metadata": {},
   "outputs": [],
   "source": [
    "#merge based on ship number, item, and transaction year\n",
    "trxp=trx.merge(price_index2,on=['ship_number','ITEM_ID','TRX_YEAR'])"
   ]
  },
  {
   "cell_type": "code",
   "execution_count": 31,
   "metadata": {},
   "outputs": [
    {
     "data": {
      "text/plain": [
       "(614866, 53)"
      ]
     },
     "execution_count": 31,
     "metadata": {},
     "output_type": "execute_result"
    }
   ],
   "source": [
    "trx.shape"
   ]
  },
  {
   "cell_type": "code",
   "execution_count": 26,
   "metadata": {},
   "outputs": [
    {
     "data": {
      "text/plain": [
       "(602386, 60)"
      ]
     },
     "execution_count": 26,
     "metadata": {},
     "output_type": "execute_result"
    }
   ],
   "source": [
    "trxp.shape"
   ]
  },
  {
   "cell_type": "code",
   "execution_count": null,
   "metadata": {},
   "outputs": [],
   "source": [
    "#trxp.to_csv('customer_revenue_tier_price.csv')\n",
    "# this data frame is used for building the churn model for each tier of customer next"
   ]
  },
  {
   "cell_type": "code",
   "execution_count": null,
   "metadata": {},
   "outputs": [],
   "source": []
  }
 ],
 "metadata": {
  "kernelspec": {
   "display_name": "Python 3",
   "language": "python",
   "name": "python3"
  },
  "language_info": {
   "codemirror_mode": {
    "name": "ipython",
    "version": 3
   },
   "file_extension": ".py",
   "mimetype": "text/x-python",
   "name": "python",
   "nbconvert_exporter": "python",
   "pygments_lexer": "ipython3",
   "version": "3.7.6"
  }
 },
 "nbformat": 4,
 "nbformat_minor": 4
}
