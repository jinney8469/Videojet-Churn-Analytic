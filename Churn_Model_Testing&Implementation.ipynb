{
 "cells": [
  {
   "cell_type": "code",
   "execution_count": 1,
   "metadata": {},
   "outputs": [],
   "source": [
    "import numpy as np\n",
    "import pandas as pd\n",
    "import matplotlib.pyplot as plt\n",
    "import seaborn as sns\n",
    "from datetime import datetime,timedelta\n",
    "import warnings\n",
    "warnings.filterwarnings(\"ignore\")\n",
    "from sklearn.linear_model import LogisticRegression\n",
    "from sklearn.preprocessing import StandardScaler\n",
    "from sklearn.cluster import KMeans\n",
    "import statsmodels.api as sm\n",
    "from sklearn.model_selection import train_test_split\n",
    "from sklearn.metrics import accuracy_score, f1_score,recall_score,precision_score, confusion_matrix\n",
    "from sklearn.metrics import silhouette_score\n",
    "from sklearn.model_selection import cross_validate\n",
    "from sklearn.pipeline import make_pipeline\n",
    "from sklearn import preprocessing\n",
    "from dateutil.relativedelta import relativedelta\n",
    "from sklearn.feature_selection import RFE\n",
    "from sklearn.feature_selection import SelectFromModel"
   ]
  },
  {
   "cell_type": "markdown",
   "metadata": {},
   "source": [
    "# Data preparation"
   ]
  },
  {
   "cell_type": "code",
   "execution_count": 2,
   "metadata": {},
   "outputs": [],
   "source": [
    "#this dataframe is generated from \"Customer_Segmentation_and_Data_Merge_Ab4J\" notebook\n",
    "df=pd.read_csv('customer_revenue_tier_price.csv').drop('Unnamed: 0',axis=1)\n",
    "\n",
    "#the timeframe of this data is too short for feature engineering\n",
    "#cx_case=pd.read_csv('cx_cases.csv') \n",
    "\n",
    "#this is from [USC_IB_Churn_Analysis_DB].[dbo].[VJ_CX_Interactions_Tab]\n",
    "cx_interact=pd.read_csv('cx_interactions_0625.csv')\n",
    "#this is from [USC_IB_Churn_Analysis_DB].[dbo].[VJ_Sites_Install_Base_Tab]\n",
    "site_install=pd.read_csv('site_install_0722.csv')\n",
    "#this is from [USC_IB_Churn_Analysis_DB].[dbo].[VJ_SVC_Incidents_Tab]\n",
    "svc_incident = pd.read_csv('svc_incidents_0625.csv')"
   ]
  },
  {
   "cell_type": "code",
   "execution_count": 126,
   "metadata": {},
   "outputs": [
    {
     "data": {
      "text/plain": [
       "(602386, 64)"
      ]
     },
     "execution_count": 126,
     "metadata": {},
     "output_type": "execute_result"
    }
   ],
   "source": [
    "#check if the data shape is the same as generated from the \"Customer_Segmentation_and_Data_Merge_Ab4J\" notebook\n",
    "df.shape"
   ]
  },
  {
   "cell_type": "code",
   "execution_count": 4,
   "metadata": {},
   "outputs": [],
   "source": [
    "def multiple_item(x):\n",
    "    #if customer used certain Sales Channel or purchase certain Product mode equally frequently\n",
    "    #this function help to return the value as \"Multiple\", which would be helpful when creating \n",
    "    #dummy variable later\n",
    "    if len(x[0])>1:\n",
    "        return \"Multiple\"\n",
    "    else:\n",
    "        return x"
   ]
  },
  {
   "cell_type": "code",
   "execution_count": 5,
   "metadata": {},
   "outputs": [],
   "source": [
    "def LatestAmtRatio(customer_id,duration,trx_max,frequency,monetary,data_end):\n",
    "    #compare if customer spend more in latest 1/3 period\n",
    "    #if yes, the ratio would be larger than 1\n",
    "    if frequency <= 2:\n",
    "        return 1\n",
    "    else:\n",
    "        if duration <= 366:\n",
    "            return 1\n",
    "        else:\n",
    "            k = round(duration/3)\n",
    "            delta=pd.to_timedelta('{} days'.format(k))\n",
    "            cal_start_date = trx_max-delta\n",
    "            ## using the df\n",
    "            latest_amt = df[(df['CUSTOMER_SITE_ID']==customer_id)&\\\n",
    "                            (df['TRX_DATE']<=data_end)&\\\n",
    "                            (df['TRX_DATE']>=cal_start_date)]['TRX_AMT_USD'].sum()\n",
    "            latest_ratio = (latest_amt*3)/monetary\n",
    "            return latest_ratio"
   ]
  },
  {
   "cell_type": "code",
   "execution_count": 6,
   "metadata": {},
   "outputs": [],
   "source": [
    "def LatestPriceRatioTrend(customer_id,duration,trx_max,frequency,agg_price_index,data_end):\n",
    "    #compare if customer tend to have higher price index in recent 1/3 period\n",
    "    #if yes, the ratio would be larger than 1\n",
    "    if frequency <= 2:\n",
    "        return 1\n",
    "    else:\n",
    "        if duration <= 366:\n",
    "            return 1\n",
    "        else:\n",
    "            k = round(duration/3)\n",
    "            delta=pd.to_timedelta('{} days'.format(k))\n",
    "            cal_start_date = trx_max-delta\n",
    "            ## using the df\n",
    "            latest_ws = df[(df['CUSTOMER_SITE_ID']==customer_id)&\\\n",
    "                           (df['TRX_DATE']<=data_end)&\\\n",
    "                           (df['TRX_DATE']>=cal_start_date)]['Price_WS_proportion'].sum()\n",
    "            latest_stu = df[(df['CUSTOMER_SITE_ID']==customer_id)&\\\n",
    "                            (df['TRX_DATE']<=data_end)&\\\n",
    "                            (df['TRX_DATE']>=cal_start_date)]['Price_STU_proportion'].sum()\n",
    "            latest_price_ratio= latest_ws/latest_stu\n",
    "            latest_price_ratio_trend = latest_price_ratio/agg_price_index\n",
    "            return latest_price_ratio_trend"
   ]
  },
  {
   "cell_type": "code",
   "execution_count": 7,
   "metadata": {},
   "outputs": [],
   "source": [
    "def DfTimeFeature(df,data_start,data_end,svc_incident,site_install,cx_interact):\n",
    "    df['TRX_DATE']=pd.to_datetime(df['TRX_DATE'])\n",
    "    data_start =pd.to_datetime(data_start)\n",
    "    data_end =pd.to_datetime(data_end)\n",
    "    \n",
    "    #categorize the product family for later dummy variable creation\n",
    "    df['Main_Product']=np.where(df['PRODUCT_FAMILY'].isin(['CIJ','LCM','TTO','TIJ']),df['PRODUCT_FAMILY'],'Other')\n",
    "    \n",
    "    #for each transaction, adjust the weight to calculate overall/aggregate price index later\n",
    "    df['Qty_proportion']=df['QUANTITY']/df['Qty']\n",
    "    df['Price_WS_proportion']=df['Site_Level_Price_Index_WS']*df['Qty_proportion']\n",
    "    df['Price_STU_proportion']=df['Site_Level_Price_Index_STU']*df['Qty_proportion']\n",
    "    \n",
    "    #set the timeframe for feature calculation\n",
    "    df_time = df[(df['TRX_DATE']>=data_start)&(df['TRX_DATE']<=data_end)]\n",
    "    \n",
    "\n",
    "    #aggrefate on customer_site_id level\n",
    "    dfg=df_time.groupby(['CUSTOMER_SITE_ID','Tier',\\\n",
    "                      'SHORT_VERTICAL','CUSTOMER_CLASS'])\\\n",
    "    .agg({\"SALES_CHANNEL\":pd.Series.mode,'PRODUCT_MODEL':pd.Series.mode,'Main_Product':pd.Series.mode,\\\n",
    "     'TRX_DATE':['min','max'],'TRX_AMT_USD':'sum','CUSTOMER_TRX_ID':pd.Series.nunique,\\\n",
    "        \"ITEM_ID\":pd.Series.nunique,'Price_WS_proportion':'sum','Price_STU_proportion':'sum'}).reset_index()\n",
    "\n",
    "    dfg.columns = ['%s%s' % (a, '_%s' % b if b else '') for a, b in dfg.columns]\n",
    "    \n",
    "    #get feature from the join df\n",
    "    dfg=dfg.rename(columns={'TRX_AMT_USD_sum':'Monetary','CUSTOMER_TRX_ID_nunique':'Frequency',\\\n",
    "                     'ITEM_ID_nunique':'Unique_Item_Purchased'})\n",
    "    dfg['Aggregate_index']=dfg['Price_WS_proportion_sum']/dfg['Price_STU_proportion_sum']\n",
    "    dfg['Duration']=((dfg['TRX_DATE_max']-dfg['TRX_DATE_min'])/np.timedelta64(1,'D')).astype('int')+1\n",
    "    dfg['Recency']=(((data_end-dfg['TRX_DATE_max'])/np.timedelta64(1,'D')).astype('int')+1)\n",
    "    dfg['SALES_CHANNEL_mode']=dfg['SALES_CHANNEL_mode'].apply(multiple_item)\n",
    "    dfg['PRODUCT_MODEL_mode']=dfg['PRODUCT_MODEL_mode'].apply(multiple_item)\n",
    "    dfg['Main_Product_mode']=dfg['Main_Product_mode'].apply(multiple_item)\n",
    "    dfg['Avg_AMT']=dfg['Monetary']/dfg['Frequency']\n",
    "    dfg['Avg_Duration']=dfg['Duration']/dfg['Frequency']\n",
    "    dfg_with_dummy = pd.get_dummies(dfg, columns=['SHORT_VERTICAL', 'CUSTOMER_CLASS',\n",
    "                                               'SALES_CHANNEL_mode', 'PRODUCT_MODEL_mode','Main_Product_mode'])\n",
    "    dfg_with_dummy['Lastest_Amt_Ratio']=dfg_with_dummy.apply(lambda x: LatestAmtRatio(x.CUSTOMER_SITE_ID, \\\n",
    "                                     x.Duration,x.TRX_DATE_max,x.Frequency,x.Monetary,data_end), axis=1)\n",
    "    dfg_with_dummy['Lastest_Price_Ratio_Trend']=dfg_with_dummy.apply(lambda x: LatestPriceRatioTrend(x.CUSTOMER_SITE_ID, \\\n",
    "                                     x.Duration,x.TRX_DATE_max,x.Frequency,x.Aggregate_index,data_end), axis=1)\n",
    "    \n",
    "    #get feature from svc_incident\n",
    "    svc_incident['LAST_SERVICE_EVENT_DATE']=pd.to_datetime(svc_incident['LAST_SERVICE_EVENT_DATE'])\n",
    "    svc_time = svc_incident[(svc_incident['LAST_SERVICE_EVENT_DATE']>=data_start)&\\\n",
    "                               (svc_incident['LAST_SERVICE_EVENT_DATE']<=data_end)]\n",
    "    incident_feature=svc_time.groupby('CUSTOMER_SITE_ID').agg({'NO_OF_SVC_INCIDENTS':'sum'}).reset_index()\n",
    "    \n",
    "    site_install['INSTANCE_LAST_UPDATE_DATE']=pd.to_datetime(site_install['INSTANCE_LAST_UPDATE_DATE'])\n",
    "    site_time = site_install[(site_install['INSTANCE_LAST_UPDATE_DATE']<=data_end)]\n",
    "    site_time['Contract']=np.where(site_time['CONTRACT_FLAG']=='Y',1,0)\n",
    "    site_feature=site_time.groupby('CUSTOMER_SITE_ID').agg({\"INSTANCE_ID\":pd.Series.nunique,\\\n",
    "                                                           \"Contract\":'sum'}).reset_index()\n",
    "    \n",
    "    id_with_incident=dfg_with_dummy.merge(incident_feature,on='CUSTOMER_SITE_ID')['CUSTOMER_SITE_ID'].values\n",
    "    df_no_incident=dfg_with_dummy[~(dfg_with_dummy['CUSTOMER_SITE_ID'].isin(id_with_incident))]\n",
    "    df_no_incident['NO_OF_SVC_INCIDENTS']=0\n",
    "    #some customer don't have incident but stil have contracted printer\n",
    "    df_no_incident2=df_no_incident.merge(site_feature[['CUSTOMER_SITE_ID','Contract']],on='CUSTOMER_SITE_ID',how='left')\n",
    "    df_no_incident2['Contract']=df_no_incident2['Contract'].fillna(0)\n",
    "    df_no_incident2['Incident_per_printer']=0\n",
    "    \n",
    "    df_incident=dfg_with_dummy.merge(incident_feature,on='CUSTOMER_SITE_ID').merge(site_feature,on='CUSTOMER_SITE_ID')\n",
    "    df_incident['Incident_per_printer']=df_incident['NO_OF_SVC_INCIDENTS']/df_incident['INSTANCE_ID']\n",
    "    df_incident=df_incident.drop('INSTANCE_ID',axis=1)\n",
    "    \n",
    "    df_feature=pd.concat([df_incident,df_no_incident2])\n",
    "    \n",
    "    #get feature from cx interact\n",
    "    cx_interact['Created_Date']=pd.to_datetime(cx_interact['Created_Date'])\n",
    "    cx_time= cx_interact[(cx_interact['Created_Date']>=data_start)&\\\n",
    "                        (cx_interact['Created_Date']<=data_end)]\n",
    "    interact_feature=cx_time.groupby('CUSTOMER_SITE_ID').agg({'Visit':'sum'}).reset_index()\n",
    "    df_feature2=df_feature.merge(interact_feature,on='CUSTOMER_SITE_ID',how='left')\n",
    "    df_feature2['Visit']=df_feature2['Visit'].fillna(0)\n",
    "    df_feature2['Visit_per_TRX']=df_feature2['Visit']/df_feature2['Frequency']\n",
    "    \n",
    "    return df_feature2"
   ]
  },
  {
   "cell_type": "code",
   "execution_count": 8,
   "metadata": {},
   "outputs": [],
   "source": [
    "data_start_18='2015-01-01'\n",
    "data_end_18='2018-06-01'\n",
    "first_df=DfTimeFeature(df,data_start_18,data_end_18,svc_incident,site_install,cx_interact)\n",
    "\n",
    "start_time = pd.to_datetime('2018-06-01')\n",
    "end_time = pd.to_datetime('2019-06-01')\n",
    "active_customer=df[(df['TRX_DATE']>start_time)&(df['TRX_DATE']<=end_time)]['CUSTOMER_SITE_ID'].values\n",
    "first_df[\"Churn\"]=np.where(first_df['CUSTOMER_SITE_ID'].isin(active_customer),0,1)"
   ]
  },
  {
   "cell_type": "code",
   "execution_count": 9,
   "metadata": {},
   "outputs": [],
   "source": [
    "data_start_19='2015-01-01'\n",
    "data_end_19='2019-06-01'\n",
    "second_df=DfTimeFeature(df,data_start_19,data_end_19,svc_incident,site_install,cx_interact)\n",
    "\n",
    "start_time = pd.to_datetime('2019-06-01')\n",
    "end_time = pd.to_datetime('2020-06-03')\n",
    "active_customer=df[(df['TRX_DATE']>start_time)&(df['TRX_DATE']<=end_time)]['CUSTOMER_SITE_ID'].values\n",
    "second_df[\"Churn\"]=np.where(second_df['CUSTOMER_SITE_ID'].isin(active_customer),0,1)"
   ]
  },
  {
   "cell_type": "code",
   "execution_count": 10,
   "metadata": {},
   "outputs": [],
   "source": [
    "data_start='2015-01-01'\n",
    "data_end='2020-06-03'\n",
    "\n",
    "third_df=DfTimeFeature(df,data_start,data_end,svc_incident,site_install,cx_interact)"
   ]
  },
  {
   "cell_type": "code",
   "execution_count": 11,
   "metadata": {},
   "outputs": [],
   "source": [
    "#large number of dummy variable created are NOT included for calculation efficiency and model intepretation purpose\n",
    "\n",
    "all_features=['Frequency','Recency','Unique_Item_Purchased', 'Aggregate_index',\n",
    "            'PRODUCT_MODEL_mode_Multiple', 'PRODUCT_MODEL_mode_MAKE-UP','PRODUCT_MODEL_mode_SOLVENT',\n",
    "            'SALES_CHANNEL_mode_Esker','SHORT_VERTICAL_UNKNOWN',\n",
    "            'Main_Product_mode_CIJ', 'Main_Product_mode_LCM','Main_Product_mode_TIJ', 'Main_Product_mode_TTO',\n",
    "            'CUSTOMER_CLASS_DISTRIBUTOR', 'CUSTOMER_CLASS_OEM', \n",
    "            'NO_OF_SVC_INCIDENTS', 'Contract','Lastest_Amt_Ratio','Lastest_Price_Ratio_Trend',\n",
    "            'Incident_per_printer', 'Visit_per_TRX','Avg_AMT','Avg_Duration']"
   ]
  },
  {
   "cell_type": "code",
   "execution_count": 12,
   "metadata": {},
   "outputs": [],
   "source": [
    "#Tier 4 customer are not included in model testing part, since they are wither one-time buyer or new customer\n",
    "#so, it is not meaningful to build churn model for them\n",
    "\n",
    "tier1_18 = first_df[first_df['Tier']=='Tier 1']\n",
    "tier2_18 = first_df[first_df['Tier']=='Tier 2']\n",
    "tier3_18 = first_df[first_df['Tier']=='Tier 3']\n",
    "#tier4_18 = first_df[first_df['Tier']=='Tier 4']\n",
    "\n",
    "X1= tier1_18.drop(['Tier',\"Churn\"],axis=1)[all_features]\n",
    "X2= tier2_18.drop(['Tier',\"Churn\"],axis=1)[all_features]\n",
    "X3= tier3_18.drop(['Tier',\"Churn\"],axis=1)[all_features]\n",
    "#X4= tier4_18.drop(['Tier',\"Churn\"],axis=1)\n",
    "\n",
    "y1=tier1_18[\"Churn\"]\n",
    "y2=tier2_18[\"Churn\"]\n",
    "y3=tier3_18[\"Churn\"]\n",
    "#y4=tier4_18[\"Churn\"]"
   ]
  },
  {
   "cell_type": "code",
   "execution_count": 13,
   "metadata": {},
   "outputs": [],
   "source": [
    "tier1_19 = second_df[second_df['Tier']=='Tier 1']\n",
    "tier2_19 = second_df[second_df['Tier']=='Tier 2']\n",
    "tier3_19 = second_df[second_df['Tier']=='Tier 3']\n",
    "#tier4_19 = second_df[second_df['Tier']=='Tier 4']\n",
    "\n",
    "X1_19= tier1_19.drop(['Tier',\"Churn\"],axis=1)[all_features]\n",
    "X2_19= tier2_19.drop(['Tier',\"Churn\"],axis=1)[all_features]\n",
    "X3_19= tier3_19.drop(['Tier',\"Churn\"],axis=1)[all_features]\n",
    "#X4_19= tier4_19.drop(['Tier',\"Churn\"],axis=1)\n",
    "\n",
    "y1_19=tier1_19[\"Churn\"]\n",
    "y2_19=tier2_19[\"Churn\"]\n",
    "y3_19=tier3_19[\"Churn\"]\n",
    "#y4_19=tier4_19[\"Churn\"]"
   ]
  },
  {
   "cell_type": "code",
   "execution_count": 14,
   "metadata": {},
   "outputs": [],
   "source": [
    "tier1_20 = third_df[third_df['Tier']=='Tier 1']\n",
    "tier2_20 = third_df[third_df['Tier']=='Tier 2']\n",
    "tier3_20 = third_df[third_df['Tier']=='Tier 3']\n",
    "#tier4_20 = third_phase[third_phase['Tier']=='Tier 4']\n",
    "\n",
    "X1_20= tier1_20.drop(['Tier'],axis=1)[['CUSTOMER_SITE_ID']+all_features]\n",
    "X2_20= tier2_20.drop(['Tier'],axis=1)[['CUSTOMER_SITE_ID']+all_features]\n",
    "X3_20= tier3_20.drop(['Tier'],axis=1)[['CUSTOMER_SITE_ID']+all_features]\n",
    "#X4_20= tier4_20.drop(['Tier'],axis=1)"
   ]
  },
  {
   "cell_type": "markdown",
   "metadata": {},
   "source": [
    "## Model Testing"
   ]
  },
  {
   "cell_type": "code",
   "execution_count": 15,
   "metadata": {},
   "outputs": [],
   "source": [
    "def LogicResult_allcoef(X,y,Penalty='l2',c=1,Solver='lbfgs'):\n",
    "    \n",
    "    #split data\n",
    "    X_train,X_test,y_train,y_test= train_test_split(X,y,test_size=0.2, \\\n",
    "                                                        stratify=y, random_state=0)\n",
    "    #scale features\n",
    "    scaler_train=StandardScaler()\n",
    "    scaler_train.fit(X_train)\n",
    "    X_train_scaled = pd.DataFrame(scaler_train.transform(X_train),columns = X_train.columns)\n",
    "    \n",
    "    scaler_test=StandardScaler()\n",
    "    scaler_test.fit(X_test)\n",
    "    X_test_scaled = pd.DataFrame(scaler_test.transform(X_test),columns = X_test.columns)\n",
    "    \n",
    "    #Buidle logistic regression model\n",
    "    classifier = LogisticRegression(random_state=0, penalty=Penalty,solver=Solver,C=c)\n",
    "    classifier.fit(X_train_scaled, y_train)\n",
    "    \n",
    "    #coefficient table\n",
    "    coef_table = pd.DataFrame(list(X_train.columns)).copy()\n",
    "    coef_table.insert(len(coef_table.columns),\"Coefs\",classifier.coef_.transpose())\n",
    "    coef_table.columns=['Variable','Coefs']\n",
    "    coef_table['Coefs_ABS']=coef_table['Coefs'].abs()\n",
    "    coef=coef_table.sort_values('Coefs_ABS',ascending=False).reset_index(drop=True)\n",
    "    coef=coef.drop('Coefs_ABS',axis=1)\n",
    "\n",
    "    \n",
    "    y_pred = classifier.predict(X_test_scaled)\n",
    "    acc = accuracy_score(y_test,y_pred)\n",
    "    prec = precision_score(y_test, y_pred)\n",
    "    rec = recall_score(y_test, y_pred)\n",
    "    f1 = f1_score(y_test,y_pred)\n",
    "    results = pd.DataFrame([['Logistic Regression', acc,prec,rec,f1]],\\\n",
    "                       columns=['Model', 'Accuracy', 'Precision', 'Recall','F1 Score'])\n",
    "    return coef,results"
   ]
  },
  {
   "cell_type": "code",
   "execution_count": 16,
   "metadata": {},
   "outputs": [],
   "source": [
    "def LogicResult_allcoef_10fold(X,y,Penalty,c,Solver):\n",
    "    #10 fold cross validation on logistic regression\n",
    "    scoring = ['accuracy','precision', 'recall','f1']\n",
    "\n",
    "    classifier = LogisticRegression(random_state=0, penalty=Penalty,solver=Solver,C=c)\n",
    "    clf = make_pipeline(preprocessing.StandardScaler(), classifier)\n",
    "    scores = cross_validate(clf, X, y, scoring=scoring,cv=10)\n",
    "\n",
    "    return scores"
   ]
  },
  {
   "cell_type": "code",
   "execution_count": 17,
   "metadata": {},
   "outputs": [],
   "source": [
    "pen=['l1','l2']\n",
    "c = [0.01,0.1, 1, 10, 100, 1000]\n",
    "solver = ['liblinear', 'saga']\n",
    "def best_Model(X,y,penalty,C,Solver,hyper_param=False):\n",
    "    #find the nest hyper-parametter or view the highest 10-fold average model metric result\n",
    "    rank = pd.DataFrame(columns = ['accuracy','precision','recall','f1'])\n",
    "    for i in penalty:\n",
    "        for j in C:\n",
    "            for k in Solver:\n",
    "                tmp_score = LogicResult_allcoef_10fold(X,y,i,j,k)\n",
    "                tmp_name = 'Logistic {i1} C={j1} {k1}'.format(i1=i,j1=j,k1=k)\n",
    "                rank.loc[tmp_name,'accuracy'] = tmp_score['test_accuracy'].mean()\n",
    "                rank.loc[tmp_name,'precision'] = tmp_score['test_precision'].mean()\n",
    "                rank.loc[tmp_name,'recall'] = tmp_score['test_recall'].mean()\n",
    "                rank.loc[tmp_name,'f1'] = tmp_score['test_f1'].mean()\n",
    "                rank.loc[tmp_name,'penalty']=i\n",
    "                rank.loc[tmp_name,'c']=j\n",
    "                rank.loc[tmp_name,'solver']=k\n",
    "    #if all score are the same, prefer lasso to ridge            \n",
    "    rank = rank.sort_values(['recall','accuracy','f1','penalty'],ascending = False)\n",
    "    if hyper_param == False:\n",
    "        return rank\n",
    "    else:\n",
    "        best_pen =rank.head(1)['penalty'].values[0]\n",
    "        best_c =rank.head(1)['c'].values[0]\n",
    "        best_sol =rank.head(1)['solver'].values[0]\n",
    "        return best_pen, best_c, best_sol"
   ]
  },
  {
   "cell_type": "code",
   "execution_count": 18,
   "metadata": {},
   "outputs": [],
   "source": [
    "def LogicResult_allcoef_next_year(X_cur,y_cur,X_next,y_next,Penalty,c,Solver):\n",
    "    #model build on previous period but test on next period\n",
    "    #scale the data\n",
    "    scaler_current=StandardScaler()\n",
    "    scaler_current.fit(X_cur)\n",
    "    X_cur_scaled = pd.DataFrame(scaler_current.transform(X_cur),columns = X_cur.columns)\n",
    "    \n",
    "    scaler_next=StandardScaler()\n",
    "    scaler_next.fit(X_next)\n",
    "    X_next_scaled = pd.DataFrame(scaler_next.transform(X_next),columns = X_next.columns)\n",
    "    \n",
    "    #Buidle logistic regression model\n",
    "    classifier = LogisticRegression(random_state=0, penalty=Penalty,solver=Solver,C=c)\n",
    "    classifier.fit(X_cur_scaled, y_cur)\n",
    "    \n",
    "    #coefficient table\n",
    "    coef_table = pd.DataFrame(list(X_cur.columns)).copy()\n",
    "    coef_table.insert(len(coef_table.columns),\"Coefs\",classifier.coef_.transpose())\n",
    "    coef_table.columns=['Variable','Coefs']\n",
    "    coef_table['Coefs_ABS']=coef_table['Coefs'].abs()\n",
    "    coef=coef_table.sort_values('Coefs_ABS',ascending=False).reset_index(drop=True)\n",
    "    coef=coef.drop('Coefs_ABS',axis=1)\n",
    "\n",
    "    \n",
    "    y_pred = classifier.predict(X_next_scaled)\n",
    "    acc = accuracy_score(y_next,y_pred)\n",
    "    prec = precision_score(y_next, y_pred)\n",
    "    rec = recall_score(y_next, y_pred)\n",
    "    f1 = f1_score(y_next,y_pred)\n",
    "    results = pd.DataFrame([['Logistic Regression', acc,prec,rec,f1]],\\\n",
    "                       columns=['Model', 'Accuracy', 'Precision', 'Recall','F1 Score'])\n",
    "    return coef,results"
   ]
  },
  {
   "cell_type": "code",
   "execution_count": 19,
   "metadata": {},
   "outputs": [],
   "source": [
    "def SFM_RFE_featrue_selection(X,y,fit_all=False):\n",
    "    #use select from model (SFM) and recursive feature elimination (RFE) to select model\n",
    "    #when testing the model, we don't fit all data\n",
    "    #but when predicting, we fit all data available\n",
    "    if fit_all == False:\n",
    "        \n",
    "        #split data\n",
    "        X_train,X_test,y_train,y_test= train_test_split(X,y,test_size=0.2, \\\n",
    "                                                        stratify=y, random_state=0)\n",
    "        \n",
    "        #scale data\n",
    "        scaler_train=StandardScaler()\n",
    "        scaler_train.fit(X_train)\n",
    "        X_train_scaled = pd.DataFrame(scaler_train.transform(X_train),columns = X_train.columns)\n",
    "\n",
    "    \n",
    "        #SFM\n",
    "        selector_sfm = SelectFromModel(estimator=LogisticRegression()).fit(X_train_scaled, y_train)\n",
    "        sfm_feature=X_train.columns[selector_sfm.get_support()]\n",
    "    \n",
    "        #RFE\n",
    "        selector_rfe = RFE(estimator=LogisticRegression(), n_features_to_select=len(sfm_feature), step=1)\\\n",
    "        .fit(X_train_scaled, y_train)\n",
    "        rfe_feature=X_train.columns[selector_rfe.get_support()]\n",
    "    \n",
    "        selected_feature = [x for x in sfm_feature if x in rfe_feature]\n",
    "        if len(selected_feature)< 5:\n",
    "            selected_feature_long=rfe_feature.union(sfm_feature)\n",
    "            return selected_feature_long\n",
    "        else:\n",
    "            return selected_feature\n",
    "    else:\n",
    "        #scale data\n",
    "        scaler_train=StandardScaler()\n",
    "        scaler_train.fit(X)\n",
    "        X_scaled = pd.DataFrame(scaler_train.transform(X),columns = X.columns)\n",
    "        \n",
    "        #SFM\n",
    "        selector_sfm = SelectFromModel(estimator=LogisticRegression()).fit(X_scaled, y)\n",
    "        sfm_feature=X.columns[selector_sfm.get_support()]\n",
    "    \n",
    "        #RFE\n",
    "        selector_rfe = RFE(estimator=LogisticRegression(), n_features_to_select=len(sfm_feature), step=1)\\\n",
    "        .fit(X_scaled, y)\n",
    "        rfe_feature=X.columns[selector_rfe.get_support()]\n",
    "    \n",
    "        selected_feature = [x for x in sfm_feature if x in rfe_feature]\n",
    "        if len(selected_feature)< 5:\n",
    "            #if the number of features selected by both SFM and RFE is less than 5, use union result instead\n",
    "            selected_feature_long=rfe_feature.union(sfm_feature)\n",
    "            return selected_feature_long\n",
    "        else:\n",
    "            return selected_feature"
   ]
  },
  {
   "cell_type": "markdown",
   "metadata": {},
   "source": [
    "# Feature Reduction Result (Model Testing)"
   ]
  },
  {
   "cell_type": "markdown",
   "metadata": {},
   "source": [
    "## 3 types of Model\n",
    "Type 1: <br>\n",
    "Model based on 2015-2019 data/ 80% training and 20 testing <br>\n",
    "Target period :2018/6 - 2019/6 <br>\n",
    "Feature period: 2015/1- 2018/6 <br>\n",
    "<br>\n",
    "Type 2:<br>\n",
    "Model based on 2015-2019, but test on 2015-2020 <br>\n",
    "<br>\n",
    "Type 3 <br>\n",
    "Model based on 2015-2020 data/ 80% training and 20 testing <br>\n",
    "Target period :2019/6 - 2020/6 <br>\n",
    "Feature period: 2015/1- 2019/6 <br>"
   ]
  },
  {
   "cell_type": "markdown",
   "metadata": {},
   "source": [
    "## Tier 1"
   ]
  },
  {
   "cell_type": "markdown",
   "metadata": {},
   "source": [
    "### Type 1 Model"
   ]
  },
  {
   "cell_type": "code",
   "execution_count": 20,
   "metadata": {},
   "outputs": [
    {
     "data": {
      "text/html": [
       "<div>\n",
       "<style scoped>\n",
       "    .dataframe tbody tr th:only-of-type {\n",
       "        vertical-align: middle;\n",
       "    }\n",
       "\n",
       "    .dataframe tbody tr th {\n",
       "        vertical-align: top;\n",
       "    }\n",
       "\n",
       "    .dataframe thead th {\n",
       "        text-align: right;\n",
       "    }\n",
       "</style>\n",
       "<table border=\"1\" class=\"dataframe\">\n",
       "  <thead>\n",
       "    <tr style=\"text-align: right;\">\n",
       "      <th></th>\n",
       "      <th>Model</th>\n",
       "      <th>Accuracy</th>\n",
       "      <th>Precision</th>\n",
       "      <th>Recall</th>\n",
       "      <th>F1 Score</th>\n",
       "    </tr>\n",
       "  </thead>\n",
       "  <tbody>\n",
       "    <tr>\n",
       "      <th>0</th>\n",
       "      <td>Logistic Regression</td>\n",
       "      <td>0.965152</td>\n",
       "      <td>0.714286</td>\n",
       "      <td>0.192308</td>\n",
       "      <td>0.30303</td>\n",
       "    </tr>\n",
       "  </tbody>\n",
       "</table>\n",
       "</div>"
      ],
      "text/plain": [
       "                 Model  Accuracy  Precision    Recall  F1 Score\n",
       "0  Logistic Regression  0.965152   0.714286  0.192308   0.30303"
      ]
     },
     "execution_count": 20,
     "metadata": {},
     "output_type": "execute_result"
    }
   ],
   "source": [
    "#use all feature\n",
    "rank1_18_all= best_Model(X1,y1,pen,c,solver)\n",
    "best_pen,best_c,best_sol = best_Model(X1,y1,pen,c,solver,hyper_param=True)\n",
    "coef1_18_all,evaluation1_18_all=LogicResult_allcoef(X1,y1,best_pen,best_c,best_sol)\n",
    "#model metric based on random_state=0 train-test data split\n",
    "evaluation1_18_all"
   ]
  },
  {
   "cell_type": "code",
   "execution_count": 21,
   "metadata": {
    "scrolled": true
   },
   "outputs": [
    {
     "data": {
      "text/html": [
       "<div>\n",
       "<style scoped>\n",
       "    .dataframe tbody tr th:only-of-type {\n",
       "        vertical-align: middle;\n",
       "    }\n",
       "\n",
       "    .dataframe tbody tr th {\n",
       "        vertical-align: top;\n",
       "    }\n",
       "\n",
       "    .dataframe thead th {\n",
       "        text-align: right;\n",
       "    }\n",
       "</style>\n",
       "<table border=\"1\" class=\"dataframe\">\n",
       "  <thead>\n",
       "    <tr style=\"text-align: right;\">\n",
       "      <th></th>\n",
       "      <th>accuracy</th>\n",
       "      <th>precision</th>\n",
       "      <th>recall</th>\n",
       "      <th>f1</th>\n",
       "      <th>penalty</th>\n",
       "      <th>c</th>\n",
       "      <th>solver</th>\n",
       "    </tr>\n",
       "  </thead>\n",
       "  <tbody>\n",
       "    <tr>\n",
       "      <th>Logistic l2 C=1 liblinear</th>\n",
       "      <td>0.965152</td>\n",
       "      <td>0.660931</td>\n",
       "      <td>0.3</td>\n",
       "      <td>0.394294</td>\n",
       "      <td>l2</td>\n",
       "      <td>1.0</td>\n",
       "      <td>liblinear</td>\n",
       "    </tr>\n",
       "  </tbody>\n",
       "</table>\n",
       "</div>"
      ],
      "text/plain": [
       "                           accuracy precision recall        f1 penalty    c  \\\n",
       "Logistic l2 C=1 liblinear  0.965152  0.660931    0.3  0.394294      l2  1.0   \n",
       "\n",
       "                              solver  \n",
       "Logistic l2 C=1 liblinear  liblinear  "
      ]
     },
     "execution_count": 21,
     "metadata": {},
     "output_type": "execute_result"
    }
   ],
   "source": [
    "#10 cross validation result using best hyper parameter for all features\n",
    "rank1_18_all.head(1)"
   ]
  },
  {
   "cell_type": "code",
   "execution_count": 22,
   "metadata": {},
   "outputs": [
    {
     "data": {
      "text/html": [
       "<div>\n",
       "<style scoped>\n",
       "    .dataframe tbody tr th:only-of-type {\n",
       "        vertical-align: middle;\n",
       "    }\n",
       "\n",
       "    .dataframe tbody tr th {\n",
       "        vertical-align: top;\n",
       "    }\n",
       "\n",
       "    .dataframe thead th {\n",
       "        text-align: right;\n",
       "    }\n",
       "</style>\n",
       "<table border=\"1\" class=\"dataframe\">\n",
       "  <thead>\n",
       "    <tr style=\"text-align: right;\">\n",
       "      <th></th>\n",
       "      <th>Model</th>\n",
       "      <th>Accuracy</th>\n",
       "      <th>Precision</th>\n",
       "      <th>Recall</th>\n",
       "      <th>F1 Score</th>\n",
       "    </tr>\n",
       "  </thead>\n",
       "  <tbody>\n",
       "    <tr>\n",
       "      <th>0</th>\n",
       "      <td>Logistic Regression</td>\n",
       "      <td>0.965152</td>\n",
       "      <td>0.666667</td>\n",
       "      <td>0.230769</td>\n",
       "      <td>0.342857</td>\n",
       "    </tr>\n",
       "  </tbody>\n",
       "</table>\n",
       "</div>"
      ],
      "text/plain": [
       "                 Model  Accuracy  Precision    Recall  F1 Score\n",
       "0  Logistic Regression  0.965152   0.666667  0.230769  0.342857"
      ]
     },
     "execution_count": 22,
     "metadata": {},
     "output_type": "execute_result"
    }
   ],
   "source": [
    "#use selected feature\n",
    "sfm_rfe_18_1=SFM_RFE_featrue_selection(X1,y1)\n",
    "rank1_18= best_Model(X1[sfm_rfe_18_1],y1,pen,c,solver)\n",
    "best_pen,best_c,best_sol = best_Model(X1[sfm_rfe_18_1],y1,pen,c,solver,hyper_param=True)\n",
    "coef1_18,evaluation1_18=LogicResult_allcoef(X1[sfm_rfe_18_1],y1,best_pen,best_c,best_sol)\n",
    "#model metric based on random_state=0 train-test data split\n",
    "evaluation1_18"
   ]
  },
  {
   "cell_type": "code",
   "execution_count": 23,
   "metadata": {},
   "outputs": [
    {
     "data": {
      "text/html": [
       "<div>\n",
       "<style scoped>\n",
       "    .dataframe tbody tr th:only-of-type {\n",
       "        vertical-align: middle;\n",
       "    }\n",
       "\n",
       "    .dataframe tbody tr th {\n",
       "        vertical-align: top;\n",
       "    }\n",
       "\n",
       "    .dataframe thead th {\n",
       "        text-align: right;\n",
       "    }\n",
       "</style>\n",
       "<table border=\"1\" class=\"dataframe\">\n",
       "  <thead>\n",
       "    <tr style=\"text-align: right;\">\n",
       "      <th></th>\n",
       "      <th>accuracy</th>\n",
       "      <th>precision</th>\n",
       "      <th>recall</th>\n",
       "      <th>f1</th>\n",
       "      <th>penalty</th>\n",
       "      <th>c</th>\n",
       "      <th>solver</th>\n",
       "    </tr>\n",
       "  </thead>\n",
       "  <tbody>\n",
       "    <tr>\n",
       "      <th>Logistic l2 C=1 saga</th>\n",
       "      <td>0.964848</td>\n",
       "      <td>0.659524</td>\n",
       "      <td>0.276923</td>\n",
       "      <td>0.376112</td>\n",
       "      <td>l2</td>\n",
       "      <td>1.0</td>\n",
       "      <td>saga</td>\n",
       "    </tr>\n",
       "  </tbody>\n",
       "</table>\n",
       "</div>"
      ],
      "text/plain": [
       "                      accuracy precision    recall        f1 penalty    c  \\\n",
       "Logistic l2 C=1 saga  0.964848  0.659524  0.276923  0.376112      l2  1.0   \n",
       "\n",
       "                     solver  \n",
       "Logistic l2 C=1 saga   saga  "
      ]
     },
     "execution_count": 23,
     "metadata": {},
     "output_type": "execute_result"
    }
   ],
   "source": [
    "#10 cross validation result using best hyper parameter for selected features\n",
    "rank1_18.head(1)"
   ]
  },
  {
   "cell_type": "markdown",
   "metadata": {},
   "source": [
    "### Type 2 Model"
   ]
  },
  {
   "cell_type": "code",
   "execution_count": 24,
   "metadata": {},
   "outputs": [
    {
     "data": {
      "text/html": [
       "<div>\n",
       "<style scoped>\n",
       "    .dataframe tbody tr th:only-of-type {\n",
       "        vertical-align: middle;\n",
       "    }\n",
       "\n",
       "    .dataframe tbody tr th {\n",
       "        vertical-align: top;\n",
       "    }\n",
       "\n",
       "    .dataframe thead th {\n",
       "        text-align: right;\n",
       "    }\n",
       "</style>\n",
       "<table border=\"1\" class=\"dataframe\">\n",
       "  <thead>\n",
       "    <tr style=\"text-align: right;\">\n",
       "      <th></th>\n",
       "      <th>Model</th>\n",
       "      <th>Accuracy</th>\n",
       "      <th>Precision</th>\n",
       "      <th>Recall</th>\n",
       "      <th>F1 Score</th>\n",
       "    </tr>\n",
       "  </thead>\n",
       "  <tbody>\n",
       "    <tr>\n",
       "      <th>0</th>\n",
       "      <td>Logistic Regression</td>\n",
       "      <td>0.939701</td>\n",
       "      <td>0.866667</td>\n",
       "      <td>0.252918</td>\n",
       "      <td>0.391566</td>\n",
       "    </tr>\n",
       "  </tbody>\n",
       "</table>\n",
       "</div>"
      ],
      "text/plain": [
       "                 Model  Accuracy  Precision    Recall  F1 Score\n",
       "0  Logistic Regression  0.939701   0.866667  0.252918  0.391566"
      ]
     },
     "execution_count": 24,
     "metadata": {},
     "output_type": "execute_result"
    }
   ],
   "source": [
    "#use all feature\n",
    "best_pen,best_c,best_sol = best_Model(X1,y1,pen,c,solver,hyper_param=True)\n",
    "coef1_18_next_all,evaluation1_18_next_all=LogicResult_allcoef_next_year(X1,y1,X1_19\\\n",
    "                                                      ,y1_19,best_pen,best_c,best_sol)\n",
    "evaluation1_18_next_all"
   ]
  },
  {
   "cell_type": "code",
   "execution_count": 25,
   "metadata": {},
   "outputs": [
    {
     "data": {
      "text/html": [
       "<div>\n",
       "<style scoped>\n",
       "    .dataframe tbody tr th:only-of-type {\n",
       "        vertical-align: middle;\n",
       "    }\n",
       "\n",
       "    .dataframe tbody tr th {\n",
       "        vertical-align: top;\n",
       "    }\n",
       "\n",
       "    .dataframe thead th {\n",
       "        text-align: right;\n",
       "    }\n",
       "</style>\n",
       "<table border=\"1\" class=\"dataframe\">\n",
       "  <thead>\n",
       "    <tr style=\"text-align: right;\">\n",
       "      <th></th>\n",
       "      <th>Model</th>\n",
       "      <th>Accuracy</th>\n",
       "      <th>Precision</th>\n",
       "      <th>Recall</th>\n",
       "      <th>F1 Score</th>\n",
       "    </tr>\n",
       "  </thead>\n",
       "  <tbody>\n",
       "    <tr>\n",
       "      <th>0</th>\n",
       "      <td>Logistic Regression</td>\n",
       "      <td>0.939403</td>\n",
       "      <td>0.885714</td>\n",
       "      <td>0.241245</td>\n",
       "      <td>0.379205</td>\n",
       "    </tr>\n",
       "  </tbody>\n",
       "</table>\n",
       "</div>"
      ],
      "text/plain": [
       "                 Model  Accuracy  Precision    Recall  F1 Score\n",
       "0  Logistic Regression  0.939403   0.885714  0.241245  0.379205"
      ]
     },
     "execution_count": 25,
     "metadata": {},
     "output_type": "execute_result"
    }
   ],
   "source": [
    "#use selected feature\n",
    "sfm_rfe_18_1_next=SFM_RFE_featrue_selection(X1,y1,fit_all=True)\n",
    "best_pen,best_c,best_sol = best_Model(X1[sfm_rfe_18_1_next],y1,pen,c,solver,hyper_param=True)\n",
    "coef1_18_next,evaluation1_18_next=LogicResult_allcoef_next_year(X1[sfm_rfe_18_1_next],y1,X1_19[sfm_rfe_18_1_next]\\\n",
    "                                                      ,y1_19,best_pen,best_c,best_sol)\n",
    "evaluation1_18_next"
   ]
  },
  {
   "cell_type": "markdown",
   "metadata": {},
   "source": [
    "### Type 3 Model"
   ]
  },
  {
   "cell_type": "code",
   "execution_count": 26,
   "metadata": {},
   "outputs": [
    {
     "data": {
      "text/html": [
       "<div>\n",
       "<style scoped>\n",
       "    .dataframe tbody tr th:only-of-type {\n",
       "        vertical-align: middle;\n",
       "    }\n",
       "\n",
       "    .dataframe tbody tr th {\n",
       "        vertical-align: top;\n",
       "    }\n",
       "\n",
       "    .dataframe thead th {\n",
       "        text-align: right;\n",
       "    }\n",
       "</style>\n",
       "<table border=\"1\" class=\"dataframe\">\n",
       "  <thead>\n",
       "    <tr style=\"text-align: right;\">\n",
       "      <th></th>\n",
       "      <th>Model</th>\n",
       "      <th>Accuracy</th>\n",
       "      <th>Precision</th>\n",
       "      <th>Recall</th>\n",
       "      <th>F1 Score</th>\n",
       "    </tr>\n",
       "  </thead>\n",
       "  <tbody>\n",
       "    <tr>\n",
       "      <th>0</th>\n",
       "      <td>Logistic Regression</td>\n",
       "      <td>0.962687</td>\n",
       "      <td>0.825</td>\n",
       "      <td>0.647059</td>\n",
       "      <td>0.725275</td>\n",
       "    </tr>\n",
       "  </tbody>\n",
       "</table>\n",
       "</div>"
      ],
      "text/plain": [
       "                 Model  Accuracy  Precision    Recall  F1 Score\n",
       "0  Logistic Regression  0.962687      0.825  0.647059  0.725275"
      ]
     },
     "execution_count": 26,
     "metadata": {},
     "output_type": "execute_result"
    }
   ],
   "source": [
    "#use all feature\n",
    "rank1_19_all= best_Model(X1_19,y1_19,pen,c,solver)\n",
    "best_pen,best_c,best_sol = best_Model(X1_19,y1_19,pen,c,solver,hyper_param=True)\n",
    "coef1_19_all,evaluation1_19_all=LogicResult_allcoef(X1_19,y1_19,best_pen,best_c,best_sol)\n",
    "evaluation1_19_all"
   ]
  },
  {
   "cell_type": "code",
   "execution_count": 27,
   "metadata": {},
   "outputs": [
    {
     "data": {
      "text/html": [
       "<div>\n",
       "<style scoped>\n",
       "    .dataframe tbody tr th:only-of-type {\n",
       "        vertical-align: middle;\n",
       "    }\n",
       "\n",
       "    .dataframe tbody tr th {\n",
       "        vertical-align: top;\n",
       "    }\n",
       "\n",
       "    .dataframe thead th {\n",
       "        text-align: right;\n",
       "    }\n",
       "</style>\n",
       "<table border=\"1\" class=\"dataframe\">\n",
       "  <thead>\n",
       "    <tr style=\"text-align: right;\">\n",
       "      <th></th>\n",
       "      <th>accuracy</th>\n",
       "      <th>precision</th>\n",
       "      <th>recall</th>\n",
       "      <th>f1</th>\n",
       "      <th>penalty</th>\n",
       "      <th>c</th>\n",
       "      <th>solver</th>\n",
       "    </tr>\n",
       "  </thead>\n",
       "  <tbody>\n",
       "    <tr>\n",
       "      <th>Logistic l1 C=1 liblinear</th>\n",
       "      <td>0.957612</td>\n",
       "      <td>0.836026</td>\n",
       "      <td>0.560308</td>\n",
       "      <td>0.667848</td>\n",
       "      <td>l1</td>\n",
       "      <td>1.0</td>\n",
       "      <td>liblinear</td>\n",
       "    </tr>\n",
       "  </tbody>\n",
       "</table>\n",
       "</div>"
      ],
      "text/plain": [
       "                           accuracy precision    recall        f1 penalty  \\\n",
       "Logistic l1 C=1 liblinear  0.957612  0.836026  0.560308  0.667848      l1   \n",
       "\n",
       "                             c     solver  \n",
       "Logistic l1 C=1 liblinear  1.0  liblinear  "
      ]
     },
     "execution_count": 27,
     "metadata": {},
     "output_type": "execute_result"
    }
   ],
   "source": [
    "#10 cross validation result using best hyper parameter for all features\n",
    "rank1_19_all.head(1)"
   ]
  },
  {
   "cell_type": "code",
   "execution_count": 28,
   "metadata": {},
   "outputs": [
    {
     "data": {
      "text/html": [
       "<div>\n",
       "<style scoped>\n",
       "    .dataframe tbody tr th:only-of-type {\n",
       "        vertical-align: middle;\n",
       "    }\n",
       "\n",
       "    .dataframe tbody tr th {\n",
       "        vertical-align: top;\n",
       "    }\n",
       "\n",
       "    .dataframe thead th {\n",
       "        text-align: right;\n",
       "    }\n",
       "</style>\n",
       "<table border=\"1\" class=\"dataframe\">\n",
       "  <thead>\n",
       "    <tr style=\"text-align: right;\">\n",
       "      <th></th>\n",
       "      <th>Model</th>\n",
       "      <th>Accuracy</th>\n",
       "      <th>Precision</th>\n",
       "      <th>Recall</th>\n",
       "      <th>F1 Score</th>\n",
       "    </tr>\n",
       "  </thead>\n",
       "  <tbody>\n",
       "    <tr>\n",
       "      <th>0</th>\n",
       "      <td>Logistic Regression</td>\n",
       "      <td>0.965672</td>\n",
       "      <td>0.888889</td>\n",
       "      <td>0.627451</td>\n",
       "      <td>0.735632</td>\n",
       "    </tr>\n",
       "  </tbody>\n",
       "</table>\n",
       "</div>"
      ],
      "text/plain": [
       "                 Model  Accuracy  Precision    Recall  F1 Score\n",
       "0  Logistic Regression  0.965672   0.888889  0.627451  0.735632"
      ]
     },
     "execution_count": 28,
     "metadata": {},
     "output_type": "execute_result"
    }
   ],
   "source": [
    "#use selected feature\n",
    "sfm_rfe_19_1=SFM_RFE_featrue_selection(X1_19,y1_19)\n",
    "rank1_19= best_Model(X1_19[sfm_rfe_19_1],y1_19,pen,c,solver)\n",
    "best_pen,best_c,best_sol = best_Model(X1_19[sfm_rfe_19_1],y1_19,pen,c,solver,hyper_param=True)\n",
    "coef1_19,evaluation1_19=LogicResult_allcoef(X1_19[sfm_rfe_19_1],y1_19,best_pen,best_c,best_sol)\n",
    "evaluation1_19"
   ]
  },
  {
   "cell_type": "code",
   "execution_count": 29,
   "metadata": {},
   "outputs": [
    {
     "data": {
      "text/html": [
       "<div>\n",
       "<style scoped>\n",
       "    .dataframe tbody tr th:only-of-type {\n",
       "        vertical-align: middle;\n",
       "    }\n",
       "\n",
       "    .dataframe tbody tr th {\n",
       "        vertical-align: top;\n",
       "    }\n",
       "\n",
       "    .dataframe thead th {\n",
       "        text-align: right;\n",
       "    }\n",
       "</style>\n",
       "<table border=\"1\" class=\"dataframe\">\n",
       "  <thead>\n",
       "    <tr style=\"text-align: right;\">\n",
       "      <th></th>\n",
       "      <th>accuracy</th>\n",
       "      <th>precision</th>\n",
       "      <th>recall</th>\n",
       "      <th>f1</th>\n",
       "      <th>penalty</th>\n",
       "      <th>c</th>\n",
       "      <th>solver</th>\n",
       "    </tr>\n",
       "  </thead>\n",
       "  <tbody>\n",
       "    <tr>\n",
       "      <th>Logistic l2 C=1 liblinear</th>\n",
       "      <td>0.959403</td>\n",
       "      <td>0.862805</td>\n",
       "      <td>0.560154</td>\n",
       "      <td>0.677214</td>\n",
       "      <td>l2</td>\n",
       "      <td>1.0</td>\n",
       "      <td>liblinear</td>\n",
       "    </tr>\n",
       "  </tbody>\n",
       "</table>\n",
       "</div>"
      ],
      "text/plain": [
       "                           accuracy precision    recall        f1 penalty  \\\n",
       "Logistic l2 C=1 liblinear  0.959403  0.862805  0.560154  0.677214      l2   \n",
       "\n",
       "                             c     solver  \n",
       "Logistic l2 C=1 liblinear  1.0  liblinear  "
      ]
     },
     "execution_count": 29,
     "metadata": {},
     "output_type": "execute_result"
    }
   ],
   "source": [
    "#10 cross validation result using best hyper parameter for selected features\n",
    "rank1_19.head(1)"
   ]
  },
  {
   "cell_type": "code",
   "execution_count": 30,
   "metadata": {},
   "outputs": [
    {
     "data": {
      "text/plain": [
       "['Recency',\n",
       " 'Aggregate_index',\n",
       " 'PRODUCT_MODEL_mode_Multiple',\n",
       " 'Main_Product_mode_CIJ',\n",
       " 'Main_Product_mode_TTO',\n",
       " 'Lastest_Amt_Ratio',\n",
       " 'Visit_per_TRX']"
      ]
     },
     "execution_count": 30,
     "metadata": {},
     "output_type": "execute_result"
    }
   ],
   "source": [
    "#feature selected by Type 1 model for Tier 1\n",
    "sfm_rfe_18_1"
   ]
  },
  {
   "cell_type": "code",
   "execution_count": 31,
   "metadata": {},
   "outputs": [
    {
     "data": {
      "text/plain": [
       "['Recency',\n",
       " 'Aggregate_index',\n",
       " 'PRODUCT_MODEL_mode_Multiple',\n",
       " 'Main_Product_mode_CIJ',\n",
       " 'Main_Product_mode_TTO',\n",
       " 'Contract',\n",
       " 'Lastest_Amt_Ratio',\n",
       " 'Visit_per_TRX']"
      ]
     },
     "execution_count": 31,
     "metadata": {},
     "output_type": "execute_result"
    }
   ],
   "source": [
    "#feature selected by Type 2 model for Tier 1\n",
    "sfm_rfe_18_1_next"
   ]
  },
  {
   "cell_type": "code",
   "execution_count": 32,
   "metadata": {},
   "outputs": [
    {
     "data": {
      "text/plain": [
       "Index(['CUSTOMER_CLASS_OEM', 'Contract', 'Lastest_Amt_Ratio',\n",
       "       'Main_Product_mode_TTO', 'NO_OF_SVC_INCIDENTS', 'Recency',\n",
       "       'SALES_CHANNEL_mode_Esker', 'Visit_per_TRX'],\n",
       "      dtype='object')"
      ]
     },
     "execution_count": 32,
     "metadata": {},
     "output_type": "execute_result"
    }
   ],
   "source": [
    "#feature selected by Type 3 model for Tier 1\n",
    "sfm_rfe_19_1"
   ]
  },
  {
   "cell_type": "markdown",
   "metadata": {},
   "source": [
    "## Tier 2"
   ]
  },
  {
   "cell_type": "markdown",
   "metadata": {},
   "source": [
    "### Type 1 Model"
   ]
  },
  {
   "cell_type": "code",
   "execution_count": 33,
   "metadata": {},
   "outputs": [
    {
     "data": {
      "text/html": [
       "<div>\n",
       "<style scoped>\n",
       "    .dataframe tbody tr th:only-of-type {\n",
       "        vertical-align: middle;\n",
       "    }\n",
       "\n",
       "    .dataframe tbody tr th {\n",
       "        vertical-align: top;\n",
       "    }\n",
       "\n",
       "    .dataframe thead th {\n",
       "        text-align: right;\n",
       "    }\n",
       "</style>\n",
       "<table border=\"1\" class=\"dataframe\">\n",
       "  <thead>\n",
       "    <tr style=\"text-align: right;\">\n",
       "      <th></th>\n",
       "      <th>Model</th>\n",
       "      <th>Accuracy</th>\n",
       "      <th>Precision</th>\n",
       "      <th>Recall</th>\n",
       "      <th>F1 Score</th>\n",
       "    </tr>\n",
       "  </thead>\n",
       "  <tbody>\n",
       "    <tr>\n",
       "      <th>0</th>\n",
       "      <td>Logistic Regression</td>\n",
       "      <td>0.889485</td>\n",
       "      <td>0.77907</td>\n",
       "      <td>0.443709</td>\n",
       "      <td>0.565401</td>\n",
       "    </tr>\n",
       "  </tbody>\n",
       "</table>\n",
       "</div>"
      ],
      "text/plain": [
       "                 Model  Accuracy  Precision    Recall  F1 Score\n",
       "0  Logistic Regression  0.889485    0.77907  0.443709  0.565401"
      ]
     },
     "execution_count": 33,
     "metadata": {},
     "output_type": "execute_result"
    }
   ],
   "source": [
    "#use all feature\n",
    "rank2_18_all= best_Model(X2,y2,pen,c,solver)\n",
    "best_pen,best_c,best_sol = best_Model(X2,y2,pen,c,solver,hyper_param=True)\n",
    "coef2_18_all,evaluation2_18_all=LogicResult_allcoef(X2,y2,best_pen,best_c,best_sol)\n",
    "evaluation2_18_all"
   ]
  },
  {
   "cell_type": "code",
   "execution_count": 34,
   "metadata": {
    "scrolled": true
   },
   "outputs": [
    {
     "data": {
      "text/html": [
       "<div>\n",
       "<style scoped>\n",
       "    .dataframe tbody tr th:only-of-type {\n",
       "        vertical-align: middle;\n",
       "    }\n",
       "\n",
       "    .dataframe tbody tr th {\n",
       "        vertical-align: top;\n",
       "    }\n",
       "\n",
       "    .dataframe thead th {\n",
       "        text-align: right;\n",
       "    }\n",
       "</style>\n",
       "<table border=\"1\" class=\"dataframe\">\n",
       "  <thead>\n",
       "    <tr style=\"text-align: right;\">\n",
       "      <th></th>\n",
       "      <th>accuracy</th>\n",
       "      <th>precision</th>\n",
       "      <th>recall</th>\n",
       "      <th>f1</th>\n",
       "      <th>penalty</th>\n",
       "      <th>c</th>\n",
       "      <th>solver</th>\n",
       "    </tr>\n",
       "  </thead>\n",
       "  <tbody>\n",
       "    <tr>\n",
       "      <th>Logistic l2 C=1 liblinear</th>\n",
       "      <td>0.893541</td>\n",
       "      <td>0.790747</td>\n",
       "      <td>0.465316</td>\n",
       "      <td>0.57708</td>\n",
       "      <td>l2</td>\n",
       "      <td>1.0</td>\n",
       "      <td>liblinear</td>\n",
       "    </tr>\n",
       "  </tbody>\n",
       "</table>\n",
       "</div>"
      ],
      "text/plain": [
       "                           accuracy precision    recall       f1 penalty    c  \\\n",
       "Logistic l2 C=1 liblinear  0.893541  0.790747  0.465316  0.57708      l2  1.0   \n",
       "\n",
       "                              solver  \n",
       "Logistic l2 C=1 liblinear  liblinear  "
      ]
     },
     "execution_count": 34,
     "metadata": {},
     "output_type": "execute_result"
    }
   ],
   "source": [
    "#10 cross validation result using best hyper parameter for all features\n",
    "rank2_18_all.head(1)"
   ]
  },
  {
   "cell_type": "code",
   "execution_count": 35,
   "metadata": {},
   "outputs": [
    {
     "data": {
      "text/html": [
       "<div>\n",
       "<style scoped>\n",
       "    .dataframe tbody tr th:only-of-type {\n",
       "        vertical-align: middle;\n",
       "    }\n",
       "\n",
       "    .dataframe tbody tr th {\n",
       "        vertical-align: top;\n",
       "    }\n",
       "\n",
       "    .dataframe thead th {\n",
       "        text-align: right;\n",
       "    }\n",
       "</style>\n",
       "<table border=\"1\" class=\"dataframe\">\n",
       "  <thead>\n",
       "    <tr style=\"text-align: right;\">\n",
       "      <th></th>\n",
       "      <th>Model</th>\n",
       "      <th>Accuracy</th>\n",
       "      <th>Precision</th>\n",
       "      <th>Recall</th>\n",
       "      <th>F1 Score</th>\n",
       "    </tr>\n",
       "  </thead>\n",
       "  <tbody>\n",
       "    <tr>\n",
       "      <th>0</th>\n",
       "      <td>Logistic Regression</td>\n",
       "      <td>0.888412</td>\n",
       "      <td>0.783133</td>\n",
       "      <td>0.430464</td>\n",
       "      <td>0.555556</td>\n",
       "    </tr>\n",
       "  </tbody>\n",
       "</table>\n",
       "</div>"
      ],
      "text/plain": [
       "                 Model  Accuracy  Precision    Recall  F1 Score\n",
       "0  Logistic Regression  0.888412   0.783133  0.430464  0.555556"
      ]
     },
     "execution_count": 35,
     "metadata": {},
     "output_type": "execute_result"
    }
   ],
   "source": [
    "#use selected feature\n",
    "sfm_rfe_18_2=SFM_RFE_featrue_selection(X2,y2)\n",
    "rank2_18= best_Model(X2[sfm_rfe_18_2],y2,pen,c,solver)\n",
    "best_pen,best_c,best_sol = best_Model(X2[sfm_rfe_18_2],y2,pen,c,solver,hyper_param=True)\n",
    "coef2_18,evaluation2_18=LogicResult_allcoef(X2[sfm_rfe_18_2],y2,best_pen,best_c,best_sol)\n",
    "evaluation2_18"
   ]
  },
  {
   "cell_type": "code",
   "execution_count": 36,
   "metadata": {},
   "outputs": [
    {
     "data": {
      "text/html": [
       "<div>\n",
       "<style scoped>\n",
       "    .dataframe tbody tr th:only-of-type {\n",
       "        vertical-align: middle;\n",
       "    }\n",
       "\n",
       "    .dataframe tbody tr th {\n",
       "        vertical-align: top;\n",
       "    }\n",
       "\n",
       "    .dataframe thead th {\n",
       "        text-align: right;\n",
       "    }\n",
       "</style>\n",
       "<table border=\"1\" class=\"dataframe\">\n",
       "  <thead>\n",
       "    <tr style=\"text-align: right;\">\n",
       "      <th></th>\n",
       "      <th>accuracy</th>\n",
       "      <th>precision</th>\n",
       "      <th>recall</th>\n",
       "      <th>f1</th>\n",
       "      <th>penalty</th>\n",
       "      <th>c</th>\n",
       "      <th>solver</th>\n",
       "    </tr>\n",
       "  </thead>\n",
       "  <tbody>\n",
       "    <tr>\n",
       "      <th>Logistic l2 C=0.1 liblinear</th>\n",
       "      <td>0.896331</td>\n",
       "      <td>0.812294</td>\n",
       "      <td>0.465368</td>\n",
       "      <td>0.585322</td>\n",
       "      <td>l2</td>\n",
       "      <td>0.1</td>\n",
       "      <td>liblinear</td>\n",
       "    </tr>\n",
       "  </tbody>\n",
       "</table>\n",
       "</div>"
      ],
      "text/plain": [
       "                             accuracy precision    recall        f1 penalty  \\\n",
       "Logistic l2 C=0.1 liblinear  0.896331  0.812294  0.465368  0.585322      l2   \n",
       "\n",
       "                               c     solver  \n",
       "Logistic l2 C=0.1 liblinear  0.1  liblinear  "
      ]
     },
     "execution_count": 36,
     "metadata": {},
     "output_type": "execute_result"
    }
   ],
   "source": [
    "#10 cross validation result using best hyper parameter for selected features\n",
    "rank2_18.head(1)"
   ]
  },
  {
   "cell_type": "markdown",
   "metadata": {},
   "source": [
    "### Type 2 Model"
   ]
  },
  {
   "cell_type": "code",
   "execution_count": 37,
   "metadata": {},
   "outputs": [
    {
     "data": {
      "text/html": [
       "<div>\n",
       "<style scoped>\n",
       "    .dataframe tbody tr th:only-of-type {\n",
       "        vertical-align: middle;\n",
       "    }\n",
       "\n",
       "    .dataframe tbody tr th {\n",
       "        vertical-align: top;\n",
       "    }\n",
       "\n",
       "    .dataframe thead th {\n",
       "        text-align: right;\n",
       "    }\n",
       "</style>\n",
       "<table border=\"1\" class=\"dataframe\">\n",
       "  <thead>\n",
       "    <tr style=\"text-align: right;\">\n",
       "      <th></th>\n",
       "      <th>Model</th>\n",
       "      <th>Accuracy</th>\n",
       "      <th>Precision</th>\n",
       "      <th>Recall</th>\n",
       "      <th>F1 Score</th>\n",
       "    </tr>\n",
       "  </thead>\n",
       "  <tbody>\n",
       "    <tr>\n",
       "      <th>0</th>\n",
       "      <td>Logistic Regression</td>\n",
       "      <td>0.862921</td>\n",
       "      <td>0.848987</td>\n",
       "      <td>0.432052</td>\n",
       "      <td>0.572671</td>\n",
       "    </tr>\n",
       "  </tbody>\n",
       "</table>\n",
       "</div>"
      ],
      "text/plain": [
       "                 Model  Accuracy  Precision    Recall  F1 Score\n",
       "0  Logistic Regression  0.862921   0.848987  0.432052  0.572671"
      ]
     },
     "execution_count": 37,
     "metadata": {},
     "output_type": "execute_result"
    }
   ],
   "source": [
    "#use all feature\n",
    "best_pen,best_c,best_sol = best_Model(X2,y2,pen,c,solver,hyper_param=True)\n",
    "coef2_18_next_all,evaluation2_18_next_all=LogicResult_allcoef_next_year(X2,y2,X2_19\\\n",
    "                                                      ,y2_19,best_pen,best_c,best_sol)\n",
    "evaluation2_18_next_all"
   ]
  },
  {
   "cell_type": "code",
   "execution_count": 38,
   "metadata": {},
   "outputs": [
    {
     "data": {
      "text/html": [
       "<div>\n",
       "<style scoped>\n",
       "    .dataframe tbody tr th:only-of-type {\n",
       "        vertical-align: middle;\n",
       "    }\n",
       "\n",
       "    .dataframe tbody tr th {\n",
       "        vertical-align: top;\n",
       "    }\n",
       "\n",
       "    .dataframe thead th {\n",
       "        text-align: right;\n",
       "    }\n",
       "</style>\n",
       "<table border=\"1\" class=\"dataframe\">\n",
       "  <thead>\n",
       "    <tr style=\"text-align: right;\">\n",
       "      <th></th>\n",
       "      <th>Model</th>\n",
       "      <th>Accuracy</th>\n",
       "      <th>Precision</th>\n",
       "      <th>Recall</th>\n",
       "      <th>F1 Score</th>\n",
       "    </tr>\n",
       "  </thead>\n",
       "  <tbody>\n",
       "    <tr>\n",
       "      <th>0</th>\n",
       "      <td>Logistic Regression</td>\n",
       "      <td>0.862323</td>\n",
       "      <td>0.848148</td>\n",
       "      <td>0.429241</td>\n",
       "      <td>0.570006</td>\n",
       "    </tr>\n",
       "  </tbody>\n",
       "</table>\n",
       "</div>"
      ],
      "text/plain": [
       "                 Model  Accuracy  Precision    Recall  F1 Score\n",
       "0  Logistic Regression  0.862323   0.848148  0.429241  0.570006"
      ]
     },
     "execution_count": 38,
     "metadata": {},
     "output_type": "execute_result"
    }
   ],
   "source": [
    "#use selected feature\n",
    "sfm_rfe_18_2_next=SFM_RFE_featrue_selection(X2,y2,fit_all=True)\n",
    "best_pen,best_c,best_sol = best_Model(X2[sfm_rfe_18_2_next],y2,pen,c,solver,hyper_param=True)\n",
    "coef2_18_next,evaluation2_18_next=LogicResult_allcoef_next_year(X2[sfm_rfe_18_2_next],y2,X2_19[sfm_rfe_18_2_next]\\\n",
    "                                                      ,y2_19,best_pen,best_c,best_sol)\n",
    "evaluation2_18_next"
   ]
  },
  {
   "cell_type": "markdown",
   "metadata": {},
   "source": [
    "### Type 3 Model"
   ]
  },
  {
   "cell_type": "code",
   "execution_count": 39,
   "metadata": {},
   "outputs": [
    {
     "data": {
      "text/html": [
       "<div>\n",
       "<style scoped>\n",
       "    .dataframe tbody tr th:only-of-type {\n",
       "        vertical-align: middle;\n",
       "    }\n",
       "\n",
       "    .dataframe tbody tr th {\n",
       "        vertical-align: top;\n",
       "    }\n",
       "\n",
       "    .dataframe thead th {\n",
       "        text-align: right;\n",
       "    }\n",
       "</style>\n",
       "<table border=\"1\" class=\"dataframe\">\n",
       "  <thead>\n",
       "    <tr style=\"text-align: right;\">\n",
       "      <th></th>\n",
       "      <th>Model</th>\n",
       "      <th>Accuracy</th>\n",
       "      <th>Precision</th>\n",
       "      <th>Recall</th>\n",
       "      <th>F1 Score</th>\n",
       "    </tr>\n",
       "  </thead>\n",
       "  <tbody>\n",
       "    <tr>\n",
       "      <th>0</th>\n",
       "      <td>Logistic Regression</td>\n",
       "      <td>0.871514</td>\n",
       "      <td>0.823077</td>\n",
       "      <td>0.502347</td>\n",
       "      <td>0.623907</td>\n",
       "    </tr>\n",
       "  </tbody>\n",
       "</table>\n",
       "</div>"
      ],
      "text/plain": [
       "                 Model  Accuracy  Precision    Recall  F1 Score\n",
       "0  Logistic Regression  0.871514   0.823077  0.502347  0.623907"
      ]
     },
     "execution_count": 39,
     "metadata": {},
     "output_type": "execute_result"
    }
   ],
   "source": [
    "#use all feature\n",
    "rank2_19_all= best_Model(X2_19,y2_19,pen,c,solver)\n",
    "best_pen,best_c,best_sol = best_Model(X2_19,y2_19,pen,c,solver,hyper_param=True)\n",
    "coef2_19_all,evaluation2_19_all=LogicResult_allcoef(X2_19,y2_19,best_pen,best_c,best_sol)\n",
    "evaluation2_19_all"
   ]
  },
  {
   "cell_type": "code",
   "execution_count": 40,
   "metadata": {},
   "outputs": [
    {
     "data": {
      "text/html": [
       "<div>\n",
       "<style scoped>\n",
       "    .dataframe tbody tr th:only-of-type {\n",
       "        vertical-align: middle;\n",
       "    }\n",
       "\n",
       "    .dataframe tbody tr th {\n",
       "        vertical-align: top;\n",
       "    }\n",
       "\n",
       "    .dataframe thead th {\n",
       "        text-align: right;\n",
       "    }\n",
       "</style>\n",
       "<table border=\"1\" class=\"dataframe\">\n",
       "  <thead>\n",
       "    <tr style=\"text-align: right;\">\n",
       "      <th></th>\n",
       "      <th>accuracy</th>\n",
       "      <th>precision</th>\n",
       "      <th>recall</th>\n",
       "      <th>f1</th>\n",
       "      <th>penalty</th>\n",
       "      <th>c</th>\n",
       "      <th>solver</th>\n",
       "    </tr>\n",
       "  </thead>\n",
       "  <tbody>\n",
       "    <tr>\n",
       "      <th>Logistic l2 C=100 saga</th>\n",
       "      <td>0.878461</td>\n",
       "      <td>0.829577</td>\n",
       "      <td>0.551129</td>\n",
       "      <td>0.653221</td>\n",
       "      <td>l2</td>\n",
       "      <td>100.0</td>\n",
       "      <td>saga</td>\n",
       "    </tr>\n",
       "  </tbody>\n",
       "</table>\n",
       "</div>"
      ],
      "text/plain": [
       "                        accuracy precision    recall        f1 penalty      c  \\\n",
       "Logistic l2 C=100 saga  0.878461  0.829577  0.551129  0.653221      l2  100.0   \n",
       "\n",
       "                       solver  \n",
       "Logistic l2 C=100 saga   saga  "
      ]
     },
     "execution_count": 40,
     "metadata": {},
     "output_type": "execute_result"
    }
   ],
   "source": [
    "#10 cross validation result using best hyper parameter for all features\n",
    "rank2_19_all.head(1)"
   ]
  },
  {
   "cell_type": "code",
   "execution_count": 41,
   "metadata": {},
   "outputs": [
    {
     "data": {
      "text/html": [
       "<div>\n",
       "<style scoped>\n",
       "    .dataframe tbody tr th:only-of-type {\n",
       "        vertical-align: middle;\n",
       "    }\n",
       "\n",
       "    .dataframe tbody tr th {\n",
       "        vertical-align: top;\n",
       "    }\n",
       "\n",
       "    .dataframe thead th {\n",
       "        text-align: right;\n",
       "    }\n",
       "</style>\n",
       "<table border=\"1\" class=\"dataframe\">\n",
       "  <thead>\n",
       "    <tr style=\"text-align: right;\">\n",
       "      <th></th>\n",
       "      <th>Model</th>\n",
       "      <th>Accuracy</th>\n",
       "      <th>Precision</th>\n",
       "      <th>Recall</th>\n",
       "      <th>F1 Score</th>\n",
       "    </tr>\n",
       "  </thead>\n",
       "  <tbody>\n",
       "    <tr>\n",
       "      <th>0</th>\n",
       "      <td>Logistic Regression</td>\n",
       "      <td>0.86753</td>\n",
       "      <td>0.822581</td>\n",
       "      <td>0.478873</td>\n",
       "      <td>0.605341</td>\n",
       "    </tr>\n",
       "  </tbody>\n",
       "</table>\n",
       "</div>"
      ],
      "text/plain": [
       "                 Model  Accuracy  Precision    Recall  F1 Score\n",
       "0  Logistic Regression   0.86753   0.822581  0.478873  0.605341"
      ]
     },
     "execution_count": 41,
     "metadata": {},
     "output_type": "execute_result"
    }
   ],
   "source": [
    "#use selected feature\n",
    "sfm_rfe_19_2=SFM_RFE_featrue_selection(X2_19,y2_19)\n",
    "rank2_19= best_Model(X2_19[sfm_rfe_19_2],y2_19,pen,c,solver)\n",
    "best_pen,best_c,best_sol = best_Model(X2_19[sfm_rfe_19_2],y2_19,pen,c,solver,hyper_param=True)\n",
    "coef2_19,evaluation2_19=LogicResult_allcoef(X2_19[sfm_rfe_19_2],y2_19,best_pen,best_c,best_sol)\n",
    "evaluation2_19"
   ]
  },
  {
   "cell_type": "code",
   "execution_count": 42,
   "metadata": {},
   "outputs": [
    {
     "data": {
      "text/html": [
       "<div>\n",
       "<style scoped>\n",
       "    .dataframe tbody tr th:only-of-type {\n",
       "        vertical-align: middle;\n",
       "    }\n",
       "\n",
       "    .dataframe tbody tr th {\n",
       "        vertical-align: top;\n",
       "    }\n",
       "\n",
       "    .dataframe thead th {\n",
       "        text-align: right;\n",
       "    }\n",
       "</style>\n",
       "<table border=\"1\" class=\"dataframe\">\n",
       "  <thead>\n",
       "    <tr style=\"text-align: right;\">\n",
       "      <th></th>\n",
       "      <th>accuracy</th>\n",
       "      <th>precision</th>\n",
       "      <th>recall</th>\n",
       "      <th>f1</th>\n",
       "      <th>penalty</th>\n",
       "      <th>c</th>\n",
       "      <th>solver</th>\n",
       "    </tr>\n",
       "  </thead>\n",
       "  <tbody>\n",
       "    <tr>\n",
       "      <th>Logistic l2 C=10 liblinear</th>\n",
       "      <td>0.880254</td>\n",
       "      <td>0.844537</td>\n",
       "      <td>0.546429</td>\n",
       "      <td>0.654731</td>\n",
       "      <td>l2</td>\n",
       "      <td>10.0</td>\n",
       "      <td>liblinear</td>\n",
       "    </tr>\n",
       "  </tbody>\n",
       "</table>\n",
       "</div>"
      ],
      "text/plain": [
       "                            accuracy precision    recall        f1 penalty  \\\n",
       "Logistic l2 C=10 liblinear  0.880254  0.844537  0.546429  0.654731      l2   \n",
       "\n",
       "                               c     solver  \n",
       "Logistic l2 C=10 liblinear  10.0  liblinear  "
      ]
     },
     "execution_count": 42,
     "metadata": {},
     "output_type": "execute_result"
    }
   ],
   "source": [
    "#10 cross validation result using best hyper parameter for selected features\n",
    "rank2_19.head(1)"
   ]
  },
  {
   "cell_type": "code",
   "execution_count": 43,
   "metadata": {},
   "outputs": [
    {
     "data": {
      "text/plain": [
       "['Frequency',\n",
       " 'Recency',\n",
       " 'PRODUCT_MODEL_mode_Multiple',\n",
       " 'NO_OF_SVC_INCIDENTS',\n",
       " 'Avg_AMT']"
      ]
     },
     "execution_count": 43,
     "metadata": {},
     "output_type": "execute_result"
    }
   ],
   "source": [
    "#feature selected by Type 1 model for Tier 2\n",
    "sfm_rfe_18_2"
   ]
  },
  {
   "cell_type": "code",
   "execution_count": 44,
   "metadata": {},
   "outputs": [
    {
     "data": {
      "text/plain": [
       "Index(['Avg_AMT', 'Frequency', 'Main_Product_mode_CIJ',\n",
       "       'Main_Product_mode_TIJ', 'Main_Product_mode_TTO', 'NO_OF_SVC_INCIDENTS',\n",
       "       'PRODUCT_MODEL_mode_Multiple', 'Recency'],\n",
       "      dtype='object')"
      ]
     },
     "execution_count": 44,
     "metadata": {},
     "output_type": "execute_result"
    }
   ],
   "source": [
    "#feature selected by Type 2 model for Tier 2\n",
    "sfm_rfe_18_2_next"
   ]
  },
  {
   "cell_type": "code",
   "execution_count": 45,
   "metadata": {},
   "outputs": [
    {
     "data": {
      "text/plain": [
       "['Frequency',\n",
       " 'Recency',\n",
       " 'Main_Product_mode_CIJ',\n",
       " 'Lastest_Amt_Ratio',\n",
       " 'Visit_per_TRX',\n",
       " 'Avg_AMT']"
      ]
     },
     "execution_count": 45,
     "metadata": {},
     "output_type": "execute_result"
    }
   ],
   "source": [
    "#feature selected by Type 3 model for Tier 2\n",
    "sfm_rfe_19_2"
   ]
  },
  {
   "cell_type": "markdown",
   "metadata": {},
   "source": [
    "## Tier 3"
   ]
  },
  {
   "cell_type": "markdown",
   "metadata": {},
   "source": [
    "### Type 1 Model"
   ]
  },
  {
   "cell_type": "code",
   "execution_count": 46,
   "metadata": {},
   "outputs": [
    {
     "data": {
      "text/html": [
       "<div>\n",
       "<style scoped>\n",
       "    .dataframe tbody tr th:only-of-type {\n",
       "        vertical-align: middle;\n",
       "    }\n",
       "\n",
       "    .dataframe tbody tr th {\n",
       "        vertical-align: top;\n",
       "    }\n",
       "\n",
       "    .dataframe thead th {\n",
       "        text-align: right;\n",
       "    }\n",
       "</style>\n",
       "<table border=\"1\" class=\"dataframe\">\n",
       "  <thead>\n",
       "    <tr style=\"text-align: right;\">\n",
       "      <th></th>\n",
       "      <th>Model</th>\n",
       "      <th>Accuracy</th>\n",
       "      <th>Precision</th>\n",
       "      <th>Recall</th>\n",
       "      <th>F1 Score</th>\n",
       "    </tr>\n",
       "  </thead>\n",
       "  <tbody>\n",
       "    <tr>\n",
       "      <th>0</th>\n",
       "      <td>Logistic Regression</td>\n",
       "      <td>0.692593</td>\n",
       "      <td>0.719072</td>\n",
       "      <td>0.830357</td>\n",
       "      <td>0.770718</td>\n",
       "    </tr>\n",
       "  </tbody>\n",
       "</table>\n",
       "</div>"
      ],
      "text/plain": [
       "                 Model  Accuracy  Precision    Recall  F1 Score\n",
       "0  Logistic Regression  0.692593   0.719072  0.830357  0.770718"
      ]
     },
     "execution_count": 46,
     "metadata": {},
     "output_type": "execute_result"
    }
   ],
   "source": [
    "#use all feature\n",
    "rank3_18_all= best_Model(X3,y3,pen,c,solver)\n",
    "best_pen,best_c,best_sol = best_Model(X3,y3,pen,c,solver,hyper_param=True)\n",
    "coef3_18_all,evaluation3_18_all=LogicResult_allcoef(X3,y3,best_pen,best_c,best_sol)\n",
    "evaluation3_18_all"
   ]
  },
  {
   "cell_type": "code",
   "execution_count": 47,
   "metadata": {
    "scrolled": true
   },
   "outputs": [
    {
     "data": {
      "text/html": [
       "<div>\n",
       "<style scoped>\n",
       "    .dataframe tbody tr th:only-of-type {\n",
       "        vertical-align: middle;\n",
       "    }\n",
       "\n",
       "    .dataframe tbody tr th {\n",
       "        vertical-align: top;\n",
       "    }\n",
       "\n",
       "    .dataframe thead th {\n",
       "        text-align: right;\n",
       "    }\n",
       "</style>\n",
       "<table border=\"1\" class=\"dataframe\">\n",
       "  <thead>\n",
       "    <tr style=\"text-align: right;\">\n",
       "      <th></th>\n",
       "      <th>accuracy</th>\n",
       "      <th>precision</th>\n",
       "      <th>recall</th>\n",
       "      <th>f1</th>\n",
       "      <th>penalty</th>\n",
       "      <th>c</th>\n",
       "      <th>solver</th>\n",
       "    </tr>\n",
       "  </thead>\n",
       "  <tbody>\n",
       "    <tr>\n",
       "      <th>Logistic l2 C=0.01 saga</th>\n",
       "      <td>0.702063</td>\n",
       "      <td>0.751956</td>\n",
       "      <td>0.829819</td>\n",
       "      <td>0.764997</td>\n",
       "      <td>l2</td>\n",
       "      <td>0.01</td>\n",
       "      <td>saga</td>\n",
       "    </tr>\n",
       "  </tbody>\n",
       "</table>\n",
       "</div>"
      ],
      "text/plain": [
       "                         accuracy precision    recall        f1 penalty     c  \\\n",
       "Logistic l2 C=0.01 saga  0.702063  0.751956  0.829819  0.764997      l2  0.01   \n",
       "\n",
       "                        solver  \n",
       "Logistic l2 C=0.01 saga   saga  "
      ]
     },
     "execution_count": 47,
     "metadata": {},
     "output_type": "execute_result"
    }
   ],
   "source": [
    "#10 cross validation result using best hyper parameter for all features\n",
    "rank3_18_all.head(1)"
   ]
  },
  {
   "cell_type": "code",
   "execution_count": 48,
   "metadata": {},
   "outputs": [
    {
     "data": {
      "text/html": [
       "<div>\n",
       "<style scoped>\n",
       "    .dataframe tbody tr th:only-of-type {\n",
       "        vertical-align: middle;\n",
       "    }\n",
       "\n",
       "    .dataframe tbody tr th {\n",
       "        vertical-align: top;\n",
       "    }\n",
       "\n",
       "    .dataframe thead th {\n",
       "        text-align: right;\n",
       "    }\n",
       "</style>\n",
       "<table border=\"1\" class=\"dataframe\">\n",
       "  <thead>\n",
       "    <tr style=\"text-align: right;\">\n",
       "      <th></th>\n",
       "      <th>Model</th>\n",
       "      <th>Accuracy</th>\n",
       "      <th>Precision</th>\n",
       "      <th>Recall</th>\n",
       "      <th>F1 Score</th>\n",
       "    </tr>\n",
       "  </thead>\n",
       "  <tbody>\n",
       "    <tr>\n",
       "      <th>0</th>\n",
       "      <td>Logistic Regression</td>\n",
       "      <td>0.690741</td>\n",
       "      <td>0.726542</td>\n",
       "      <td>0.806548</td>\n",
       "      <td>0.764457</td>\n",
       "    </tr>\n",
       "  </tbody>\n",
       "</table>\n",
       "</div>"
      ],
      "text/plain": [
       "                 Model  Accuracy  Precision    Recall  F1 Score\n",
       "0  Logistic Regression  0.690741   0.726542  0.806548  0.764457"
      ]
     },
     "execution_count": 48,
     "metadata": {},
     "output_type": "execute_result"
    }
   ],
   "source": [
    "#use selected feature\n",
    "sfm_rfe_18_3=SFM_RFE_featrue_selection(X3,y3)\n",
    "rank3_18= best_Model(X3[sfm_rfe_18_3],y3,pen,c,solver)\n",
    "best_pen,best_c,best_sol = best_Model(X3[sfm_rfe_18_3],y3,pen,c,solver,hyper_param=True)\n",
    "coef3_18,evaluation3_18=LogicResult_allcoef(X3[sfm_rfe_18_3],y3,best_pen,best_c,best_sol)\n",
    "evaluation3_18"
   ]
  },
  {
   "cell_type": "code",
   "execution_count": 49,
   "metadata": {},
   "outputs": [
    {
     "data": {
      "text/html": [
       "<div>\n",
       "<style scoped>\n",
       "    .dataframe tbody tr th:only-of-type {\n",
       "        vertical-align: middle;\n",
       "    }\n",
       "\n",
       "    .dataframe tbody tr th {\n",
       "        vertical-align: top;\n",
       "    }\n",
       "\n",
       "    .dataframe thead th {\n",
       "        text-align: right;\n",
       "    }\n",
       "</style>\n",
       "<table border=\"1\" class=\"dataframe\">\n",
       "  <thead>\n",
       "    <tr style=\"text-align: right;\">\n",
       "      <th></th>\n",
       "      <th>accuracy</th>\n",
       "      <th>precision</th>\n",
       "      <th>recall</th>\n",
       "      <th>f1</th>\n",
       "      <th>penalty</th>\n",
       "      <th>c</th>\n",
       "      <th>solver</th>\n",
       "    </tr>\n",
       "  </thead>\n",
       "  <tbody>\n",
       "    <tr>\n",
       "      <th>Logistic l2 C=0.01 saga</th>\n",
       "      <td>0.707255</td>\n",
       "      <td>0.753009</td>\n",
       "      <td>0.838772</td>\n",
       "      <td>0.771437</td>\n",
       "      <td>l2</td>\n",
       "      <td>0.01</td>\n",
       "      <td>saga</td>\n",
       "    </tr>\n",
       "  </tbody>\n",
       "</table>\n",
       "</div>"
      ],
      "text/plain": [
       "                         accuracy precision    recall        f1 penalty     c  \\\n",
       "Logistic l2 C=0.01 saga  0.707255  0.753009  0.838772  0.771437      l2  0.01   \n",
       "\n",
       "                        solver  \n",
       "Logistic l2 C=0.01 saga   saga  "
      ]
     },
     "execution_count": 49,
     "metadata": {},
     "output_type": "execute_result"
    }
   ],
   "source": [
    "#10 cross validation result using best hyper parameter for selected features\n",
    "rank3_18.head(1)"
   ]
  },
  {
   "cell_type": "markdown",
   "metadata": {},
   "source": [
    "### Type 2 Model"
   ]
  },
  {
   "cell_type": "code",
   "execution_count": 50,
   "metadata": {},
   "outputs": [
    {
     "data": {
      "text/html": [
       "<div>\n",
       "<style scoped>\n",
       "    .dataframe tbody tr th:only-of-type {\n",
       "        vertical-align: middle;\n",
       "    }\n",
       "\n",
       "    .dataframe tbody tr th {\n",
       "        vertical-align: top;\n",
       "    }\n",
       "\n",
       "    .dataframe thead th {\n",
       "        text-align: right;\n",
       "    }\n",
       "</style>\n",
       "<table border=\"1\" class=\"dataframe\">\n",
       "  <thead>\n",
       "    <tr style=\"text-align: right;\">\n",
       "      <th></th>\n",
       "      <th>Model</th>\n",
       "      <th>Accuracy</th>\n",
       "      <th>Precision</th>\n",
       "      <th>Recall</th>\n",
       "      <th>F1 Score</th>\n",
       "    </tr>\n",
       "  </thead>\n",
       "  <tbody>\n",
       "    <tr>\n",
       "      <th>0</th>\n",
       "      <td>Logistic Regression</td>\n",
       "      <td>0.757126</td>\n",
       "      <td>0.751295</td>\n",
       "      <td>0.885496</td>\n",
       "      <td>0.812894</td>\n",
       "    </tr>\n",
       "  </tbody>\n",
       "</table>\n",
       "</div>"
      ],
      "text/plain": [
       "                 Model  Accuracy  Precision    Recall  F1 Score\n",
       "0  Logistic Regression  0.757126   0.751295  0.885496  0.812894"
      ]
     },
     "execution_count": 50,
     "metadata": {},
     "output_type": "execute_result"
    }
   ],
   "source": [
    "#use all feature\n",
    "best_pen,best_c,best_sol = best_Model(X3,y3,pen,c,solver,hyper_param=True)\n",
    "coef3_18_next_all,evaluation3_18_next_all=LogicResult_allcoef_next_year(X3,y3,X3_19\\\n",
    "                                                      ,y3_19,best_pen,best_c,best_sol)\n",
    "evaluation3_18_next_all"
   ]
  },
  {
   "cell_type": "code",
   "execution_count": 51,
   "metadata": {},
   "outputs": [
    {
     "data": {
      "text/html": [
       "<div>\n",
       "<style scoped>\n",
       "    .dataframe tbody tr th:only-of-type {\n",
       "        vertical-align: middle;\n",
       "    }\n",
       "\n",
       "    .dataframe tbody tr th {\n",
       "        vertical-align: top;\n",
       "    }\n",
       "\n",
       "    .dataframe thead th {\n",
       "        text-align: right;\n",
       "    }\n",
       "</style>\n",
       "<table border=\"1\" class=\"dataframe\">\n",
       "  <thead>\n",
       "    <tr style=\"text-align: right;\">\n",
       "      <th></th>\n",
       "      <th>Model</th>\n",
       "      <th>Accuracy</th>\n",
       "      <th>Precision</th>\n",
       "      <th>Recall</th>\n",
       "      <th>F1 Score</th>\n",
       "    </tr>\n",
       "  </thead>\n",
       "  <tbody>\n",
       "    <tr>\n",
       "      <th>0</th>\n",
       "      <td>Logistic Regression</td>\n",
       "      <td>0.755609</td>\n",
       "      <td>0.747755</td>\n",
       "      <td>0.890076</td>\n",
       "      <td>0.812732</td>\n",
       "    </tr>\n",
       "  </tbody>\n",
       "</table>\n",
       "</div>"
      ],
      "text/plain": [
       "                 Model  Accuracy  Precision    Recall  F1 Score\n",
       "0  Logistic Regression  0.755609   0.747755  0.890076  0.812732"
      ]
     },
     "execution_count": 51,
     "metadata": {},
     "output_type": "execute_result"
    }
   ],
   "source": [
    "#use selected feature\n",
    "sfm_rfe_18_3_next=SFM_RFE_featrue_selection(X3,y3,fit_all=True)\n",
    "best_pen,best_c,best_sol = best_Model(X3[sfm_rfe_18_3_next],y3,pen,c,solver,hyper_param=True)\n",
    "coef3_18_next,evaluation3_18_next=LogicResult_allcoef_next_year(X3[sfm_rfe_18_3_next],y3,X3_19[sfm_rfe_18_3_next]\\\n",
    "                                                      ,y3_19,best_pen,best_c,best_sol)\n",
    "evaluation3_18_next"
   ]
  },
  {
   "cell_type": "markdown",
   "metadata": {},
   "source": [
    "### Type 3 Model"
   ]
  },
  {
   "cell_type": "code",
   "execution_count": 52,
   "metadata": {},
   "outputs": [
    {
     "data": {
      "text/html": [
       "<div>\n",
       "<style scoped>\n",
       "    .dataframe tbody tr th:only-of-type {\n",
       "        vertical-align: middle;\n",
       "    }\n",
       "\n",
       "    .dataframe tbody tr th {\n",
       "        vertical-align: top;\n",
       "    }\n",
       "\n",
       "    .dataframe thead th {\n",
       "        text-align: right;\n",
       "    }\n",
       "</style>\n",
       "<table border=\"1\" class=\"dataframe\">\n",
       "  <thead>\n",
       "    <tr style=\"text-align: right;\">\n",
       "      <th></th>\n",
       "      <th>Model</th>\n",
       "      <th>Accuracy</th>\n",
       "      <th>Precision</th>\n",
       "      <th>Recall</th>\n",
       "      <th>F1 Score</th>\n",
       "    </tr>\n",
       "  </thead>\n",
       "  <tbody>\n",
       "    <tr>\n",
       "      <th>0</th>\n",
       "      <td>Logistic Regression</td>\n",
       "      <td>0.745455</td>\n",
       "      <td>0.762238</td>\n",
       "      <td>0.832061</td>\n",
       "      <td>0.79562</td>\n",
       "    </tr>\n",
       "  </tbody>\n",
       "</table>\n",
       "</div>"
      ],
      "text/plain": [
       "                 Model  Accuracy  Precision    Recall  F1 Score\n",
       "0  Logistic Regression  0.745455   0.762238  0.832061   0.79562"
      ]
     },
     "execution_count": 52,
     "metadata": {},
     "output_type": "execute_result"
    }
   ],
   "source": [
    "#use all feature\n",
    "rank3_19_all= best_Model(X3_19,y3_19,pen,c,solver)\n",
    "best_pen,best_c,best_sol = best_Model(X3_19,y3_19,pen,c,solver,hyper_param=True)\n",
    "coef3_19_all,evaluation3_19_all=LogicResult_allcoef(X3_19,y3_19,best_pen,best_c,best_sol)\n",
    "evaluation3_19_all"
   ]
  },
  {
   "cell_type": "code",
   "execution_count": 53,
   "metadata": {},
   "outputs": [
    {
     "data": {
      "text/html": [
       "<div>\n",
       "<style scoped>\n",
       "    .dataframe tbody tr th:only-of-type {\n",
       "        vertical-align: middle;\n",
       "    }\n",
       "\n",
       "    .dataframe tbody tr th {\n",
       "        vertical-align: top;\n",
       "    }\n",
       "\n",
       "    .dataframe thead th {\n",
       "        text-align: right;\n",
       "    }\n",
       "</style>\n",
       "<table border=\"1\" class=\"dataframe\">\n",
       "  <thead>\n",
       "    <tr style=\"text-align: right;\">\n",
       "      <th></th>\n",
       "      <th>accuracy</th>\n",
       "      <th>precision</th>\n",
       "      <th>recall</th>\n",
       "      <th>f1</th>\n",
       "      <th>penalty</th>\n",
       "      <th>c</th>\n",
       "      <th>solver</th>\n",
       "    </tr>\n",
       "  </thead>\n",
       "  <tbody>\n",
       "    <tr>\n",
       "      <th>Logistic l2 C=0.01 saga</th>\n",
       "      <td>0.740162</td>\n",
       "      <td>0.793575</td>\n",
       "      <td>0.817735</td>\n",
       "      <td>0.779527</td>\n",
       "      <td>l2</td>\n",
       "      <td>0.01</td>\n",
       "      <td>saga</td>\n",
       "    </tr>\n",
       "  </tbody>\n",
       "</table>\n",
       "</div>"
      ],
      "text/plain": [
       "                         accuracy precision    recall        f1 penalty     c  \\\n",
       "Logistic l2 C=0.01 saga  0.740162  0.793575  0.817735  0.779527      l2  0.01   \n",
       "\n",
       "                        solver  \n",
       "Logistic l2 C=0.01 saga   saga  "
      ]
     },
     "execution_count": 53,
     "metadata": {},
     "output_type": "execute_result"
    }
   ],
   "source": [
    "#10 cross validation result using best hyper parameter for all features\n",
    "rank3_19_all.head(1)"
   ]
  },
  {
   "cell_type": "code",
   "execution_count": 54,
   "metadata": {},
   "outputs": [
    {
     "data": {
      "text/html": [
       "<div>\n",
       "<style scoped>\n",
       "    .dataframe tbody tr th:only-of-type {\n",
       "        vertical-align: middle;\n",
       "    }\n",
       "\n",
       "    .dataframe tbody tr th {\n",
       "        vertical-align: top;\n",
       "    }\n",
       "\n",
       "    .dataframe thead th {\n",
       "        text-align: right;\n",
       "    }\n",
       "</style>\n",
       "<table border=\"1\" class=\"dataframe\">\n",
       "  <thead>\n",
       "    <tr style=\"text-align: right;\">\n",
       "      <th></th>\n",
       "      <th>Model</th>\n",
       "      <th>Accuracy</th>\n",
       "      <th>Precision</th>\n",
       "      <th>Recall</th>\n",
       "      <th>F1 Score</th>\n",
       "    </tr>\n",
       "  </thead>\n",
       "  <tbody>\n",
       "    <tr>\n",
       "      <th>0</th>\n",
       "      <td>Logistic Regression</td>\n",
       "      <td>0.75303</td>\n",
       "      <td>0.763761</td>\n",
       "      <td>0.847328</td>\n",
       "      <td>0.803378</td>\n",
       "    </tr>\n",
       "  </tbody>\n",
       "</table>\n",
       "</div>"
      ],
      "text/plain": [
       "                 Model  Accuracy  Precision    Recall  F1 Score\n",
       "0  Logistic Regression   0.75303   0.763761  0.847328  0.803378"
      ]
     },
     "execution_count": 54,
     "metadata": {},
     "output_type": "execute_result"
    }
   ],
   "source": [
    "#use selected feature\n",
    "sfm_rfe_19_3=SFM_RFE_featrue_selection(X3_19,y3_19)\n",
    "rank3_19= best_Model(X3_19[sfm_rfe_19_3],y3_19,pen,c,solver)\n",
    "best_pen,best_c,best_sol = best_Model(X3_19[sfm_rfe_19_3],y3_19,pen,c,solver,hyper_param=True)\n",
    "coef3_19,evaluation3_19=LogicResult_allcoef(X3_19[sfm_rfe_19_3],y3_19,best_pen,best_c,best_sol)\n",
    "evaluation3_19"
   ]
  },
  {
   "cell_type": "code",
   "execution_count": 55,
   "metadata": {},
   "outputs": [
    {
     "data": {
      "text/html": [
       "<div>\n",
       "<style scoped>\n",
       "    .dataframe tbody tr th:only-of-type {\n",
       "        vertical-align: middle;\n",
       "    }\n",
       "\n",
       "    .dataframe tbody tr th {\n",
       "        vertical-align: top;\n",
       "    }\n",
       "\n",
       "    .dataframe thead th {\n",
       "        text-align: right;\n",
       "    }\n",
       "</style>\n",
       "<table border=\"1\" class=\"dataframe\">\n",
       "  <thead>\n",
       "    <tr style=\"text-align: right;\">\n",
       "      <th></th>\n",
       "      <th>accuracy</th>\n",
       "      <th>precision</th>\n",
       "      <th>recall</th>\n",
       "      <th>f1</th>\n",
       "      <th>penalty</th>\n",
       "      <th>c</th>\n",
       "      <th>solver</th>\n",
       "    </tr>\n",
       "  </thead>\n",
       "  <tbody>\n",
       "    <tr>\n",
       "      <th>Logistic l2 C=0.01 saga</th>\n",
       "      <td>0.751387</td>\n",
       "      <td>0.799654</td>\n",
       "      <td>0.828962</td>\n",
       "      <td>0.792391</td>\n",
       "      <td>l2</td>\n",
       "      <td>0.01</td>\n",
       "      <td>saga</td>\n",
       "    </tr>\n",
       "  </tbody>\n",
       "</table>\n",
       "</div>"
      ],
      "text/plain": [
       "                         accuracy precision    recall        f1 penalty     c  \\\n",
       "Logistic l2 C=0.01 saga  0.751387  0.799654  0.828962  0.792391      l2  0.01   \n",
       "\n",
       "                        solver  \n",
       "Logistic l2 C=0.01 saga   saga  "
      ]
     },
     "execution_count": 55,
     "metadata": {},
     "output_type": "execute_result"
    }
   ],
   "source": [
    "#10 cross validation result using best hyper parameter for selected features\n",
    "rank3_19.head(1)"
   ]
  },
  {
   "cell_type": "code",
   "execution_count": 56,
   "metadata": {},
   "outputs": [
    {
     "data": {
      "text/plain": [
       "['Frequency',\n",
       " 'Recency',\n",
       " 'CUSTOMER_CLASS_DISTRIBUTOR',\n",
       " 'CUSTOMER_CLASS_OEM',\n",
       " 'Avg_AMT',\n",
       " 'Avg_Duration']"
      ]
     },
     "execution_count": 56,
     "metadata": {},
     "output_type": "execute_result"
    }
   ],
   "source": [
    "#feature selected by Type 1 model for Tier 3\n",
    "sfm_rfe_18_3"
   ]
  },
  {
   "cell_type": "code",
   "execution_count": 57,
   "metadata": {},
   "outputs": [
    {
     "data": {
      "text/plain": [
       "Index(['Avg_AMT', 'Avg_Duration', 'CUSTOMER_CLASS_OEM', 'Frequency',\n",
       "       'Main_Product_mode_CIJ', 'Recency'],\n",
       "      dtype='object')"
      ]
     },
     "execution_count": 57,
     "metadata": {},
     "output_type": "execute_result"
    }
   ],
   "source": [
    "#feature selected by Type 2 model for Tier 3\n",
    "sfm_rfe_18_3_next"
   ]
  },
  {
   "cell_type": "code",
   "execution_count": 58,
   "metadata": {},
   "outputs": [
    {
     "data": {
      "text/plain": [
       "['Frequency',\n",
       " 'Recency',\n",
       " 'CUSTOMER_CLASS_OEM',\n",
       " 'Visit_per_TRX',\n",
       " 'Avg_AMT',\n",
       " 'Avg_Duration']"
      ]
     },
     "execution_count": 58,
     "metadata": {},
     "output_type": "execute_result"
    }
   ],
   "source": [
    "#feature selected by Type 3 model for Tier 3\n",
    "sfm_rfe_19_3"
   ]
  },
  {
   "cell_type": "markdown",
   "metadata": {},
   "source": [
    "# Churn List prediction for next year (Model Implementation)"
   ]
  },
  {
   "cell_type": "code",
   "execution_count": 111,
   "metadata": {},
   "outputs": [],
   "source": [
    "def LogicResult_churn_next_year(X_cur,y_cur,X_next,Penalty,c,Solver,table=False):\n",
    "    #use previous period to build model\n",
    "    #use all data aviable to build feature and feed into model\n",
    "    scaler_current=StandardScaler()\n",
    "    scaler_current.fit(X_cur)\n",
    "    X_cur_scaled = pd.DataFrame(scaler_current.transform(X_cur),columns = X_cur.columns)\n",
    "    \n",
    "    X_next_feature=X_next.drop('CUSTOMER_SITE_ID',axis=1)\n",
    "    scaler_next=StandardScaler()\n",
    "    scaler_next.fit(X_next_feature)\n",
    "    X_next_feature_scaled = pd.DataFrame(scaler_next.transform(X_next_feature),columns = X_next_feature.columns)\n",
    "    \n",
    "    \n",
    "    \n",
    "    classifier = LogisticRegression(random_state=0, penalty=Penalty,solver=Solver,C=c)\n",
    "    classifier.fit(X_cur_scaled, y_cur)\n",
    "    \n",
    "    coef_table = pd.DataFrame(list(X_cur.columns)).copy()\n",
    "    coef_table.insert(len(coef_table.columns),\"Coefs\",classifier.coef_.transpose())\n",
    "    coef_table.columns=['Variable','Coefs']\n",
    "    coef_table['Coefs_ABS']=coef_table['Coefs'].abs()\n",
    "    coef=coef_table.sort_values('Coefs_ABS',ascending=False).reset_index(drop=True)\n",
    "    coef=coef.drop('Coefs_ABS',axis=1)\n",
    "    \n",
    "    y_pred = classifier.predict(X_next_feature_scaled)\n",
    "    X_next['churn_pred'] = y_pred\n",
    "    churn_next=X_next[X_next['churn_pred']==1]\n",
    "    \n",
    "    if table == False:\n",
    "        return churn_next\n",
    "    #if you want to view the feature chosen and coefficient\n",
    "    else:\n",
    "        return coef"
   ]
  },
  {
   "cell_type": "markdown",
   "metadata": {},
   "source": [
    "## Tier 1"
   ]
  },
  {
   "cell_type": "code",
   "execution_count": 60,
   "metadata": {},
   "outputs": [],
   "source": [
    "#using selected features and best hyper-parameter\n",
    "sfm_rfe_19_1_next=SFM_RFE_featrue_selection(X1_19,y1_19,fit_all=True)\n",
    "best_pen,best_c,best_sol = best_Model(X1_19[sfm_rfe_19_1_next],y1_19,pen,c,solver,hyper_param=True)\n",
    "churn_20_1=LogicResult_churn_next_year(X1_19[sfm_rfe_19_1_next],y1_19,X1_20[['CUSTOMER_SITE_ID']+sfm_rfe_19_1_next]\\\n",
    "                                       ,best_pen,best_c,best_sol)"
   ]
  },
  {
   "cell_type": "code",
   "execution_count": 101,
   "metadata": {},
   "outputs": [],
   "source": [
    "watchlist_1 =churn_20_1[churn_20_1['Recency']<366]"
   ]
  },
  {
   "cell_type": "code",
   "execution_count": 102,
   "metadata": {},
   "outputs": [
    {
     "name": "stdout",
     "output_type": "stream",
     "text": [
      "3391\n",
      "218\n",
      "4\n"
     ]
    }
   ],
   "source": [
    "print(X1_20.shape[0])   #Total number of customer\n",
    "print(churn_20_1.shape[0]) #Total number on the predicted inactive customer for next year\n",
    "print(watchlist_1.shape[0]) #The customer that are active in the past year, but may churn in the following year"
   ]
  },
  {
   "cell_type": "code",
   "execution_count": 108,
   "metadata": {},
   "outputs": [
    {
     "data": {
      "text/html": [
       "<div>\n",
       "<style scoped>\n",
       "    .dataframe tbody tr th:only-of-type {\n",
       "        vertical-align: middle;\n",
       "    }\n",
       "\n",
       "    .dataframe tbody tr th {\n",
       "        vertical-align: top;\n",
       "    }\n",
       "\n",
       "    .dataframe thead th {\n",
       "        text-align: right;\n",
       "    }\n",
       "</style>\n",
       "<table border=\"1\" class=\"dataframe\">\n",
       "  <thead>\n",
       "    <tr style=\"text-align: right;\">\n",
       "      <th></th>\n",
       "      <th>CUSTOMER_SITE_ID</th>\n",
       "      <th>Recency</th>\n",
       "      <th>CUSTOMER_CLASS_OEM</th>\n",
       "      <th>Contract</th>\n",
       "      <th>Lastest_Amt_Ratio</th>\n",
       "      <th>Visit_per_TRX</th>\n",
       "      <th>churn_pred</th>\n",
       "    </tr>\n",
       "  </thead>\n",
       "  <tbody>\n",
       "    <tr>\n",
       "      <th>705</th>\n",
       "      <td>9949</td>\n",
       "      <td>337</td>\n",
       "      <td>0</td>\n",
       "      <td>0.0</td>\n",
       "      <td>0.441129</td>\n",
       "      <td>0.071429</td>\n",
       "      <td>1</td>\n",
       "    </tr>\n",
       "    <tr>\n",
       "      <th>1051</th>\n",
       "      <td>24190</td>\n",
       "      <td>323</td>\n",
       "      <td>0</td>\n",
       "      <td>10.0</td>\n",
       "      <td>0.061347</td>\n",
       "      <td>0.220974</td>\n",
       "      <td>1</td>\n",
       "    </tr>\n",
       "    <tr>\n",
       "      <th>1965</th>\n",
       "      <td>63817</td>\n",
       "      <td>351</td>\n",
       "      <td>0</td>\n",
       "      <td>0.0</td>\n",
       "      <td>0.559203</td>\n",
       "      <td>0.100000</td>\n",
       "      <td>1</td>\n",
       "    </tr>\n",
       "    <tr>\n",
       "      <th>10858</th>\n",
       "      <td>112402</td>\n",
       "      <td>359</td>\n",
       "      <td>0</td>\n",
       "      <td>0.0</td>\n",
       "      <td>0.171816</td>\n",
       "      <td>0.000000</td>\n",
       "      <td>1</td>\n",
       "    </tr>\n",
       "  </tbody>\n",
       "</table>\n",
       "</div>"
      ],
      "text/plain": [
       "       CUSTOMER_SITE_ID  Recency  CUSTOMER_CLASS_OEM  Contract  \\\n",
       "705                9949      337                   0       0.0   \n",
       "1051              24190      323                   0      10.0   \n",
       "1965              63817      351                   0       0.0   \n",
       "10858            112402      359                   0       0.0   \n",
       "\n",
       "       Lastest_Amt_Ratio  Visit_per_TRX  churn_pred  \n",
       "705             0.441129       0.071429           1  \n",
       "1051            0.061347       0.220974           1  \n",
       "1965            0.559203       0.100000           1  \n",
       "10858           0.171816       0.000000           1  "
      ]
     },
     "execution_count": 108,
     "metadata": {},
     "output_type": "execute_result"
    }
   ],
   "source": [
    "watchlist_1"
   ]
  },
  {
   "cell_type": "code",
   "execution_count": null,
   "metadata": {},
   "outputs": [],
   "source": [
    "#save the watchlist for Tier 1 as csv file\n",
    "#watchlist_1.to_csv('Tier1_watchlist')"
   ]
  },
  {
   "cell_type": "markdown",
   "metadata": {},
   "source": [
    "## Tier 2"
   ]
  },
  {
   "cell_type": "code",
   "execution_count": 64,
   "metadata": {},
   "outputs": [],
   "source": [
    "#using selected features and best hyper-parameter\n",
    "sfm_rfe_19_2_next=SFM_RFE_featrue_selection(X2_19,y2_19,fit_all=True)\n",
    "best_pen,best_c,best_sol = best_Model(X2_19[sfm_rfe_19_2_next],y2_19,pen,c,solver,hyper_param=True)\n",
    "churn_20_2=LogicResult_churn_next_year(X2_19[sfm_rfe_19_2_next],y2_19,X2_20[['CUSTOMER_SITE_ID']+sfm_rfe_19_2_next]\\\n",
    "                                       ,best_pen,best_c,best_sol)"
   ]
  },
  {
   "cell_type": "code",
   "execution_count": 103,
   "metadata": {},
   "outputs": [],
   "source": [
    "watchlist_2 =churn_20_2[churn_20_2['Recency']<366]"
   ]
  },
  {
   "cell_type": "code",
   "execution_count": 104,
   "metadata": {},
   "outputs": [
    {
     "name": "stdout",
     "output_type": "stream",
     "text": [
      "5195\n",
      "787\n",
      "6\n"
     ]
    }
   ],
   "source": [
    "print(X2_20.shape[0])   #Total number of customer\n",
    "print(churn_20_2.shape[0]) #Total number on the predicted inactive customer for next year\n",
    "print(watchlist_2.shape[0]) #The customer that are active in the past year, but may churn in the following year"
   ]
  },
  {
   "cell_type": "code",
   "execution_count": 105,
   "metadata": {},
   "outputs": [
    {
     "data": {
      "text/html": [
       "<div>\n",
       "<style scoped>\n",
       "    .dataframe tbody tr th:only-of-type {\n",
       "        vertical-align: middle;\n",
       "    }\n",
       "\n",
       "    .dataframe tbody tr th {\n",
       "        vertical-align: top;\n",
       "    }\n",
       "\n",
       "    .dataframe thead th {\n",
       "        text-align: right;\n",
       "    }\n",
       "</style>\n",
       "<table border=\"1\" class=\"dataframe\">\n",
       "  <thead>\n",
       "    <tr style=\"text-align: right;\">\n",
       "      <th></th>\n",
       "      <th>CUSTOMER_SITE_ID</th>\n",
       "      <th>Frequency</th>\n",
       "      <th>Recency</th>\n",
       "      <th>Lastest_Amt_Ratio</th>\n",
       "      <th>Visit_per_TRX</th>\n",
       "      <th>Avg_AMT</th>\n",
       "      <th>churn_pred</th>\n",
       "    </tr>\n",
       "  </thead>\n",
       "  <tbody>\n",
       "    <tr>\n",
       "      <th>964</th>\n",
       "      <td>12910</td>\n",
       "      <td>7</td>\n",
       "      <td>252</td>\n",
       "      <td>1.406714</td>\n",
       "      <td>6.857143</td>\n",
       "      <td>14413.892857</td>\n",
       "      <td>1</td>\n",
       "    </tr>\n",
       "    <tr>\n",
       "      <th>1248</th>\n",
       "      <td>33594</td>\n",
       "      <td>80</td>\n",
       "      <td>318</td>\n",
       "      <td>0.378063</td>\n",
       "      <td>0.062500</td>\n",
       "      <td>105.304000</td>\n",
       "      <td>1</td>\n",
       "    </tr>\n",
       "    <tr>\n",
       "      <th>5136</th>\n",
       "      <td>367748</td>\n",
       "      <td>47</td>\n",
       "      <td>359</td>\n",
       "      <td>0.727133</td>\n",
       "      <td>0.574468</td>\n",
       "      <td>224.699574</td>\n",
       "      <td>1</td>\n",
       "    </tr>\n",
       "    <tr>\n",
       "      <th>5578</th>\n",
       "      <td>491145</td>\n",
       "      <td>102</td>\n",
       "      <td>33</td>\n",
       "      <td>0.970602</td>\n",
       "      <td>0.156863</td>\n",
       "      <td>46.791765</td>\n",
       "      <td>1</td>\n",
       "    </tr>\n",
       "    <tr>\n",
       "      <th>5849</th>\n",
       "      <td>534196</td>\n",
       "      <td>6</td>\n",
       "      <td>23</td>\n",
       "      <td>1.542149</td>\n",
       "      <td>6.333333</td>\n",
       "      <td>19449.466667</td>\n",
       "      <td>1</td>\n",
       "    </tr>\n",
       "    <tr>\n",
       "      <th>10577</th>\n",
       "      <td>70320</td>\n",
       "      <td>3</td>\n",
       "      <td>48</td>\n",
       "      <td>1.889250</td>\n",
       "      <td>0.666667</td>\n",
       "      <td>10082.570000</td>\n",
       "      <td>1</td>\n",
       "    </tr>\n",
       "  </tbody>\n",
       "</table>\n",
       "</div>"
      ],
      "text/plain": [
       "       CUSTOMER_SITE_ID  Frequency  Recency  Lastest_Amt_Ratio  Visit_per_TRX  \\\n",
       "964               12910          7      252           1.406714       6.857143   \n",
       "1248              33594         80      318           0.378063       0.062500   \n",
       "5136             367748         47      359           0.727133       0.574468   \n",
       "5578             491145        102       33           0.970602       0.156863   \n",
       "5849             534196          6       23           1.542149       6.333333   \n",
       "10577             70320          3       48           1.889250       0.666667   \n",
       "\n",
       "            Avg_AMT  churn_pred  \n",
       "964    14413.892857           1  \n",
       "1248     105.304000           1  \n",
       "5136     224.699574           1  \n",
       "5578      46.791765           1  \n",
       "5849   19449.466667           1  \n",
       "10577  10082.570000           1  "
      ]
     },
     "execution_count": 105,
     "metadata": {},
     "output_type": "execute_result"
    }
   ],
   "source": [
    "watchlist_2"
   ]
  },
  {
   "cell_type": "code",
   "execution_count": null,
   "metadata": {},
   "outputs": [],
   "source": [
    "#save the watchlist for Tier 2 as csv file\n",
    "#watchlist_2.to_csv('Tier2_watchlist')"
   ]
  },
  {
   "cell_type": "markdown",
   "metadata": {},
   "source": [
    "## Tier 3"
   ]
  },
  {
   "cell_type": "code",
   "execution_count": 68,
   "metadata": {},
   "outputs": [],
   "source": [
    "sfm_rfe_19_3_next=SFM_RFE_featrue_selection(X3_19,y3_19,fit_all=True)\n",
    "best_pen,best_c,best_sol = best_Model(X3_19[sfm_rfe_19_3_next],y3_19,pen,c,solver,hyper_param=True)\n",
    "churn_20_3=LogicResult_churn_next_year(X3_19[sfm_rfe_19_3_next],y3_19,X3_20[['CUSTOMER_SITE_ID']+sfm_rfe_19_3_next]\\\n",
    "                                       ,best_pen,best_c,best_sol)"
   ]
  },
  {
   "cell_type": "code",
   "execution_count": 106,
   "metadata": {},
   "outputs": [],
   "source": [
    "watchlist_3 =churn_20_3[churn_20_3['Recency']<366]"
   ]
  },
  {
   "cell_type": "code",
   "execution_count": 107,
   "metadata": {},
   "outputs": [
    {
     "name": "stdout",
     "output_type": "stream",
     "text": [
      "3810\n",
      "2332\n",
      "452\n"
     ]
    }
   ],
   "source": [
    "print(X3_20.shape[0])   #Total number of customer\n",
    "print(churn_20_3.shape[0]) #Total number on the predicted inactive customer for next year\n",
    "print(watchlist_3.shape[0]) #The customer that are active in the past year, but may churn in the following year"
   ]
  },
  {
   "cell_type": "code",
   "execution_count": 71,
   "metadata": {},
   "outputs": [
    {
     "data": {
      "text/html": [
       "<div>\n",
       "<style scoped>\n",
       "    .dataframe tbody tr th:only-of-type {\n",
       "        vertical-align: middle;\n",
       "    }\n",
       "\n",
       "    .dataframe tbody tr th {\n",
       "        vertical-align: top;\n",
       "    }\n",
       "\n",
       "    .dataframe thead th {\n",
       "        text-align: right;\n",
       "    }\n",
       "</style>\n",
       "<table border=\"1\" class=\"dataframe\">\n",
       "  <thead>\n",
       "    <tr style=\"text-align: right;\">\n",
       "      <th></th>\n",
       "      <th>CUSTOMER_SITE_ID</th>\n",
       "      <th>Frequency</th>\n",
       "      <th>Recency</th>\n",
       "      <th>CUSTOMER_CLASS_OEM</th>\n",
       "      <th>NO_OF_SVC_INCIDENTS</th>\n",
       "      <th>Visit_per_TRX</th>\n",
       "      <th>Avg_AMT</th>\n",
       "      <th>Avg_Duration</th>\n",
       "      <th>churn_pred</th>\n",
       "    </tr>\n",
       "  </thead>\n",
       "  <tbody>\n",
       "    <tr>\n",
       "      <th>87</th>\n",
       "      <td>1433</td>\n",
       "      <td>8</td>\n",
       "      <td>210</td>\n",
       "      <td>0</td>\n",
       "      <td>1</td>\n",
       "      <td>1.125000</td>\n",
       "      <td>167.102500</td>\n",
       "      <td>220.125000</td>\n",
       "      <td>1</td>\n",
       "    </tr>\n",
       "    <tr>\n",
       "      <th>148</th>\n",
       "      <td>2305</td>\n",
       "      <td>3</td>\n",
       "      <td>262</td>\n",
       "      <td>0</td>\n",
       "      <td>67</td>\n",
       "      <td>21.000000</td>\n",
       "      <td>117.413333</td>\n",
       "      <td>403.000000</td>\n",
       "      <td>1</td>\n",
       "    </tr>\n",
       "    <tr>\n",
       "      <th>231</th>\n",
       "      <td>3459</td>\n",
       "      <td>7</td>\n",
       "      <td>303</td>\n",
       "      <td>0</td>\n",
       "      <td>1</td>\n",
       "      <td>0.428571</td>\n",
       "      <td>166.321429</td>\n",
       "      <td>207.142857</td>\n",
       "      <td>1</td>\n",
       "    </tr>\n",
       "    <tr>\n",
       "      <th>317</th>\n",
       "      <td>4534</td>\n",
       "      <td>6</td>\n",
       "      <td>45</td>\n",
       "      <td>0</td>\n",
       "      <td>1</td>\n",
       "      <td>0.833333</td>\n",
       "      <td>457.335000</td>\n",
       "      <td>319.333333</td>\n",
       "      <td>1</td>\n",
       "    </tr>\n",
       "    <tr>\n",
       "      <th>383</th>\n",
       "      <td>5355</td>\n",
       "      <td>5</td>\n",
       "      <td>150</td>\n",
       "      <td>0</td>\n",
       "      <td>24</td>\n",
       "      <td>5.400000</td>\n",
       "      <td>665.498000</td>\n",
       "      <td>158.000000</td>\n",
       "      <td>1</td>\n",
       "    </tr>\n",
       "    <tr>\n",
       "      <th>...</th>\n",
       "      <td>...</td>\n",
       "      <td>...</td>\n",
       "      <td>...</td>\n",
       "      <td>...</td>\n",
       "      <td>...</td>\n",
       "      <td>...</td>\n",
       "      <td>...</td>\n",
       "      <td>...</td>\n",
       "      <td>...</td>\n",
       "    </tr>\n",
       "    <tr>\n",
       "      <th>14386</th>\n",
       "      <td>8397197</td>\n",
       "      <td>2</td>\n",
       "      <td>318</td>\n",
       "      <td>1</td>\n",
       "      <td>0</td>\n",
       "      <td>0.000000</td>\n",
       "      <td>357.890000</td>\n",
       "      <td>17.000000</td>\n",
       "      <td>1</td>\n",
       "    </tr>\n",
       "    <tr>\n",
       "      <th>14403</th>\n",
       "      <td>8398667</td>\n",
       "      <td>3</td>\n",
       "      <td>129</td>\n",
       "      <td>0</td>\n",
       "      <td>0</td>\n",
       "      <td>0.000000</td>\n",
       "      <td>3681.713333</td>\n",
       "      <td>81.666667</td>\n",
       "      <td>1</td>\n",
       "    </tr>\n",
       "    <tr>\n",
       "      <th>14492</th>\n",
       "      <td>8406846</td>\n",
       "      <td>2</td>\n",
       "      <td>93</td>\n",
       "      <td>0</td>\n",
       "      <td>0</td>\n",
       "      <td>0.000000</td>\n",
       "      <td>3167.160000</td>\n",
       "      <td>111.000000</td>\n",
       "      <td>1</td>\n",
       "    </tr>\n",
       "    <tr>\n",
       "      <th>14518</th>\n",
       "      <td>8408894</td>\n",
       "      <td>3</td>\n",
       "      <td>36</td>\n",
       "      <td>0</td>\n",
       "      <td>0</td>\n",
       "      <td>0.000000</td>\n",
       "      <td>3675.286667</td>\n",
       "      <td>16.333333</td>\n",
       "      <td>1</td>\n",
       "    </tr>\n",
       "    <tr>\n",
       "      <th>14671</th>\n",
       "      <td>8417628</td>\n",
       "      <td>2</td>\n",
       "      <td>203</td>\n",
       "      <td>1</td>\n",
       "      <td>0</td>\n",
       "      <td>0.000000</td>\n",
       "      <td>2306.750000</td>\n",
       "      <td>12.000000</td>\n",
       "      <td>1</td>\n",
       "    </tr>\n",
       "  </tbody>\n",
       "</table>\n",
       "<p>479 rows × 9 columns</p>\n",
       "</div>"
      ],
      "text/plain": [
       "       CUSTOMER_SITE_ID  Frequency  Recency  CUSTOMER_CLASS_OEM  \\\n",
       "87                 1433          8      210                   0   \n",
       "148                2305          3      262                   0   \n",
       "231                3459          7      303                   0   \n",
       "317                4534          6       45                   0   \n",
       "383                5355          5      150                   0   \n",
       "...                 ...        ...      ...                 ...   \n",
       "14386           8397197          2      318                   1   \n",
       "14403           8398667          3      129                   0   \n",
       "14492           8406846          2       93                   0   \n",
       "14518           8408894          3       36                   0   \n",
       "14671           8417628          2      203                   1   \n",
       "\n",
       "       NO_OF_SVC_INCIDENTS  Visit_per_TRX      Avg_AMT  Avg_Duration  \\\n",
       "87                       1       1.125000   167.102500    220.125000   \n",
       "148                     67      21.000000   117.413333    403.000000   \n",
       "231                      1       0.428571   166.321429    207.142857   \n",
       "317                      1       0.833333   457.335000    319.333333   \n",
       "383                     24       5.400000   665.498000    158.000000   \n",
       "...                    ...            ...          ...           ...   \n",
       "14386                    0       0.000000   357.890000     17.000000   \n",
       "14403                    0       0.000000  3681.713333     81.666667   \n",
       "14492                    0       0.000000  3167.160000    111.000000   \n",
       "14518                    0       0.000000  3675.286667     16.333333   \n",
       "14671                    0       0.000000  2306.750000     12.000000   \n",
       "\n",
       "       churn_pred  \n",
       "87              1  \n",
       "148             1  \n",
       "231             1  \n",
       "317             1  \n",
       "383             1  \n",
       "...           ...  \n",
       "14386           1  \n",
       "14403           1  \n",
       "14492           1  \n",
       "14518           1  \n",
       "14671           1  \n",
       "\n",
       "[479 rows x 9 columns]"
      ]
     },
     "execution_count": 71,
     "metadata": {},
     "output_type": "execute_result"
    }
   ],
   "source": [
    "watchlist_3"
   ]
  },
  {
   "cell_type": "code",
   "execution_count": null,
   "metadata": {},
   "outputs": [],
   "source": [
    "#save the watchlist for Tier 3 as csv file\n",
    "#watchlist_3.to_csv('Tier3_watchlist')"
   ]
  },
  {
   "cell_type": "code",
   "execution_count": 76,
   "metadata": {},
   "outputs": [
    {
     "data": {
      "text/html": [
       "<div>\n",
       "<style scoped>\n",
       "    .dataframe tbody tr th:only-of-type {\n",
       "        vertical-align: middle;\n",
       "    }\n",
       "\n",
       "    .dataframe tbody tr th {\n",
       "        vertical-align: top;\n",
       "    }\n",
       "\n",
       "    .dataframe thead th {\n",
       "        text-align: right;\n",
       "    }\n",
       "</style>\n",
       "<table border=\"1\" class=\"dataframe\">\n",
       "  <thead>\n",
       "    <tr style=\"text-align: right;\">\n",
       "      <th></th>\n",
       "      <th>Tier</th>\n",
       "      <th>Churn</th>\n",
       "      <th>CUSTOMER_SITE_ID</th>\n",
       "      <th>Avg_Duration</th>\n",
       "      <th>Churn_rate</th>\n",
       "    </tr>\n",
       "  </thead>\n",
       "  <tbody>\n",
       "    <tr>\n",
       "      <th>0</th>\n",
       "      <td>Tier 1</td>\n",
       "      <td>257</td>\n",
       "      <td>3350</td>\n",
       "      <td>30.293444</td>\n",
       "      <td>7.67</td>\n",
       "    </tr>\n",
       "    <tr>\n",
       "      <th>1</th>\n",
       "      <td>Tier 2</td>\n",
       "      <td>1067</td>\n",
       "      <td>5019</td>\n",
       "      <td>83.728126</td>\n",
       "      <td>21.26</td>\n",
       "    </tr>\n",
       "    <tr>\n",
       "      <th>2</th>\n",
       "      <td>Tier 3</td>\n",
       "      <td>1965</td>\n",
       "      <td>3298</td>\n",
       "      <td>123.874558</td>\n",
       "      <td>59.58</td>\n",
       "    </tr>\n",
       "    <tr>\n",
       "      <th>3</th>\n",
       "      <td>Tier 4</td>\n",
       "      <td>1862</td>\n",
       "      <td>1864</td>\n",
       "      <td>1.301475</td>\n",
       "      <td>99.89</td>\n",
       "    </tr>\n",
       "  </tbody>\n",
       "</table>\n",
       "</div>"
      ],
      "text/plain": [
       "     Tier  Churn  CUSTOMER_SITE_ID  Avg_Duration  Churn_rate\n",
       "0  Tier 1    257              3350     30.293444        7.67\n",
       "1  Tier 2   1067              5019     83.728126       21.26\n",
       "2  Tier 3   1965              3298    123.874558       59.58\n",
       "3  Tier 4   1862              1864      1.301475       99.89"
      ]
     },
     "execution_count": 76,
     "metadata": {},
     "output_type": "execute_result"
    }
   ],
   "source": [
    "#basic stat for each tier based on most recent data\n",
    "stat=second_df.groupby('Tier').agg({'Churn':'sum','CUSTOMER_SITE_ID':'count','Avg_Duration':'mean'}).reset_index()\n",
    "stat['Churn_rate']=round((stat['Churn']/stat['CUSTOMER_SITE_ID'])*100,2)\n",
    "stat"
   ]
  },
  {
   "cell_type": "code",
   "execution_count": null,
   "metadata": {},
   "outputs": [],
   "source": []
  }
 ],
 "metadata": {
  "kernelspec": {
   "display_name": "Python 3",
   "language": "python",
   "name": "python3"
  },
  "language_info": {
   "codemirror_mode": {
    "name": "ipython",
    "version": 3
   },
   "file_extension": ".py",
   "mimetype": "text/x-python",
   "name": "python",
   "nbconvert_exporter": "python",
   "pygments_lexer": "ipython3",
   "version": "3.7.6"
  }
 },
 "nbformat": 4,
 "nbformat_minor": 4
}
